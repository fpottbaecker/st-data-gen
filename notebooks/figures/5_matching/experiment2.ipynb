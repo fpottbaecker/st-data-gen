{
 "cells": [
  {
   "cell_type": "markdown",
   "source": [
    "# Experiment 2\n",
    "Evaluating correlation between SpotNMatch scores and deconvolution accuracy."
   ],
   "metadata": {
    "collapsed": false
   }
  },
  {
   "cell_type": "code",
   "execution_count": 7,
   "outputs": [],
   "source": [
    "import numpy\n",
    "import pandas as pd\n",
    "import matplotlib.pyplot as plot\n",
    "import numpy as np\n",
    "\n",
    "from scstmatch.matching import SpotNMatch\n",
    "from scstmatch.data import SingleCellDataset, SpatialTranscriptomicsDataset\n",
    "from scstmatch.deconvolution import IntegralDeconvolver, GreedySelector\n",
    "from scstmatch.deconvolution.evaluation import evaluate_jsd, evaluate_rmse\n",
    "from analysis.cell_based_selector import cell_based_analysis"
   ],
   "metadata": {
    "collapsed": false
   }
  },
  {
   "cell_type": "markdown",
   "source": [
    "## Datasets\n",
    "We will use the same four datasets for this test, each testing a combination of mismatches.\n",
    "We have excluded the gender mismatch as it tends to contribute very little."
   ],
   "metadata": {
    "collapsed": false
   }
  },
  {
   "cell_type": "code",
   "execution_count": 8,
   "outputs": [],
   "source": [
    "DATA_PATH = \"../../../data\"\n",
    "REFERENCE_PATH = f\"{DATA_PATH}/reference\"\n",
    "REFERENCE_DATASETS = {\n",
    "    (\"Harvard\", \"full\", \"F\"): f\"{REFERENCE_PATH}/hca_harvard_gender_Female.sc.h5ad\",\n",
    "    (\"Harvard\", \"V1\", \"F\"): f\"{REFERENCE_PATH}/hca_harvard_gender_Female_-muscles.sc.h5ad\",\n",
    "    (\"Harvard\", \"V2\", \"F\"): f\"{REFERENCE_PATH}/hca_harvard_gender_Female_-endothelial.sc.h5ad\",\n",
    "    (\"Sanger\", \"full\", \"F\"): f\"{REFERENCE_PATH}/hca_sanger_gender_Female.sc.h5ad\",\n",
    "    (\"Sanger\", \"V1\", \"F\"): f\"{REFERENCE_PATH}/hca_sanger_gender_Female_-muscles.sc.h5ad\",\n",
    "    (\"Sanger\", \"V2\", \"F\"): f\"{REFERENCE_PATH}/hca_sanger_gender_Female_-endothelial.sc.h5ad\",\n",
    "}\n",
    "\n",
    "TARGET_PATH = f\"{DATA_PATH}/st\"\n",
    "TARGET_DATASETS = {\n",
    "    (\"Harvard\", \"full\", \"F1\"): f\"{TARGET_PATH}/hca_harvard_donor_H6.st.h5ad\",\n",
    "    (\"Harvard\", \"V1\", \"F1\"): f\"{TARGET_PATH}/hca_harvard_donor_H6_-muscles.st.h5ad\",\n",
    "    (\"Harvard\", \"V2\", \"F1\"): f\"{TARGET_PATH}/hca_harvard_donor_H6_-endothelial.st.h5ad\",\n",
    "    (\"Sanger\", \"full\", \"F1\"): f\"{TARGET_PATH}/hca_sanger_donor_D5.st.h5ad\",\n",
    "    (\"Sanger\", \"V1\", \"F1\"): f\"{TARGET_PATH}/hca_sanger_donor_D5_-muscles.st.h5ad\",\n",
    "    (\"Sanger\", \"V2\", \"F1\"): f\"{TARGET_PATH}/hca_sanger_donor_D5_-endothelial.st.h5ad\",\n",
    "    (\"Harvard\", \"full\", \"F2\"): f\"{TARGET_PATH}/hca_harvard_donor_H7.st.h5ad\",\n",
    "    (\"Harvard\", \"V1\", \"F2\"): f\"{TARGET_PATH}/hca_harvard_donor_H7_-muscles.st.h5ad\",\n",
    "    (\"Harvard\", \"V2\", \"F2\"): f\"{TARGET_PATH}/hca_harvard_donor_H7_-endothelial.st.h5ad\",\n",
    "    (\"Sanger\", \"full\", \"F2\"): f\"{TARGET_PATH}/hca_sanger_donor_D1.st.h5ad\",\n",
    "    (\"Sanger\", \"V1\", \"F2\"): f\"{TARGET_PATH}/hca_sanger_donor_D1_-muscles.st.h5ad\",\n",
    "    (\"Sanger\", \"V2\", \"F2\"): f\"{TARGET_PATH}/hca_sanger_donor_D1_-endothelial.st.h5ad\",\n",
    "}\n",
    "\n",
    "# Precomputed gene selection\n",
    "GENES = ['ABCA6', 'ABCA8', 'ABCA9', 'ACACB', 'ACSL1', 'ACTA2', 'ADGRB3', 'ANK3',\n",
    "         'ANKRD44', 'ANO2', 'ARHGAP15', 'BCL2', 'BICC1', 'BTNL9', 'CADM2',\n",
    "         'CADPS', 'CARMIL1', 'CARMN', 'CCND3', 'CD163', 'CDC42SE2', 'CDH19',\n",
    "         'CMYA5', 'CTNNA3', 'DCN', 'DLC1', 'DOCK2', 'EGFL7', 'EGFLAM', 'EHBP1',\n",
    "         'ELMO1', 'EPS8', 'ERBB4', 'FHL2', 'FKBP5', 'FMN1', 'FRMD3', 'FRMD4B',\n",
    "         'FYN', 'GNAQ', 'GPAM', 'GRIP1', 'GUCY1A2', 'ID1', 'IKZF1', 'IQGAP2',\n",
    "         'KCNAB1', 'LAMA2', 'LDB2', 'LINC02248', 'LIPE-AS1', 'LRMDA', 'MAPK10',\n",
    "         'MGST1', 'MLIP', 'MYBPC3', 'MYH11', 'MYH6', 'MYL7', 'NEAT1', 'NEGR1',\n",
    "         'NR2F2-AS1', 'NRXN1', 'NRXN3', 'NTRK3', 'PAM', 'PARP8', 'PDE3B',\n",
    "         'PDE4DIP', 'PDGFRB', 'PID1', 'PLA2G5', 'PLIN1', 'PNPLA2', 'PRKG1',\n",
    "         'PTPRB', 'PTPRC', 'RABGAP1L', 'RBM47', 'RGS5', 'RORA', 'RYR2', 'SCN7A',\n",
    "         'SGCD', 'SKAP1', 'SLC8A1', 'SLIT3', 'SOX5', 'ST6GALNAC3', 'SYNE1',\n",
    "         'TBXAS1', 'TRDN-AS1', 'TTN', 'VWF', 'ZFHX3']"
   ],
   "metadata": {
    "collapsed": false
   }
  },
  {
   "cell_type": "markdown",
   "source": [
    "## Generate Table Data\n",
    "We will generate a scatter plot grid of the separate results."
   ],
   "metadata": {
    "collapsed": false
   }
  },
  {
   "cell_type": "code",
   "execution_count": 9,
   "outputs": [
    {
     "name": "stdout",
     "output_type": "stream",
     "text": [
      "0.019060s\tinit\n",
      "5.779694s\tload\n",
      "0.783278s\thvg\n",
      "3.147883s\tnnls\n"
     ]
    },
    {
     "data": {
      "text/plain": "  0%|                                                  | 0/1000 [00:00<?, ?it/s]",
      "application/vnd.jupyter.widget-view+json": {
       "version_major": 2,
       "version_minor": 0,
       "model_id": "b50456b4af524da6a1c5c8685d6a68fb"
      }
     },
     "metadata": {},
     "output_type": "display_data"
    },
    {
     "name": "stdout",
     "output_type": "stream",
     "text": [
      "0.018403s\tinit\n",
      "5.326879s\tload\n",
      "0.753838s\thvg\n",
      "2.802681s\tnnls\n"
     ]
    },
    {
     "data": {
      "text/plain": "  0%|                                                  | 0/1000 [00:00<?, ?it/s]",
      "application/vnd.jupyter.widget-view+json": {
       "version_major": 2,
       "version_minor": 0,
       "model_id": "bcb8b475b67e4d1ca755d21c527a447d"
      }
     },
     "metadata": {},
     "output_type": "display_data"
    },
    {
     "name": "stdout",
     "output_type": "stream",
     "text": [
      "0.018283s\tinit\n",
      "5.962056s\tload\n",
      "0.736870s\thvg\n",
      "3.196043s\tnnls\n"
     ]
    },
    {
     "data": {
      "text/plain": "  0%|                                                  | 0/1000 [00:00<?, ?it/s]",
      "application/vnd.jupyter.widget-view+json": {
       "version_major": 2,
       "version_minor": 0,
       "model_id": "0e52630dbede4bbf9a0611e991b5bc08"
      }
     },
     "metadata": {},
     "output_type": "display_data"
    },
    {
     "name": "stdout",
     "output_type": "stream",
     "text": [
      "0.021377s\tinit\n",
      "5.795882s\tload\n",
      "0.620372s\thvg\n",
      "3.001827s\tnnls\n"
     ]
    },
    {
     "data": {
      "text/plain": "  0%|                                                  | 0/1000 [00:00<?, ?it/s]",
      "application/vnd.jupyter.widget-view+json": {
       "version_major": 2,
       "version_minor": 0,
       "model_id": "aa81d759b1b24d16bb262de233bb638f"
      }
     },
     "metadata": {},
     "output_type": "display_data"
    },
    {
     "name": "stdout",
     "output_type": "stream",
     "text": [
      "0.018721s\tinit\n",
      "5.447145s\tload\n",
      "0.582657s\thvg\n",
      "2.703924s\tnnls\n"
     ]
    },
    {
     "data": {
      "text/plain": "  0%|                                                  | 0/1000 [00:00<?, ?it/s]",
      "application/vnd.jupyter.widget-view+json": {
       "version_major": 2,
       "version_minor": 0,
       "model_id": "b3c2b50507184019918d27bdba61d1f1"
      }
     },
     "metadata": {},
     "output_type": "display_data"
    },
    {
     "name": "stdout",
     "output_type": "stream",
     "text": [
      "0.017933s\tinit\n",
      "5.814109s\tload\n",
      "0.637261s\thvg\n",
      "2.945999s\tnnls\n"
     ]
    },
    {
     "data": {
      "text/plain": "  0%|                                                  | 0/1000 [00:00<?, ?it/s]",
      "application/vnd.jupyter.widget-view+json": {
       "version_major": 2,
       "version_minor": 0,
       "model_id": "5d269353dfc2463e952609ee31626e98"
      }
     },
     "metadata": {},
     "output_type": "display_data"
    },
    {
     "name": "stdout",
     "output_type": "stream",
     "text": [
      "0.018568s\tinit\n",
      "5.627589s\tload\n",
      "0.711091s\thvg\n",
      "2.955907s\tnnls\n"
     ]
    },
    {
     "data": {
      "text/plain": "  0%|                                                  | 0/1000 [00:00<?, ?it/s]",
      "application/vnd.jupyter.widget-view+json": {
       "version_major": 2,
       "version_minor": 0,
       "model_id": "48a7495803144acaa500eb428d32dfb4"
      }
     },
     "metadata": {},
     "output_type": "display_data"
    },
    {
     "name": "stdout",
     "output_type": "stream",
     "text": [
      "0.019104s\tinit\n",
      "5.901859s\tload\n",
      "0.690554s\thvg\n",
      "3.028594s\tnnls\n"
     ]
    },
    {
     "data": {
      "text/plain": "  0%|                                                  | 0/1000 [00:00<?, ?it/s]",
      "application/vnd.jupyter.widget-view+json": {
       "version_major": 2,
       "version_minor": 0,
       "model_id": "ae220591d4e44c5da356832ee005570d"
      }
     },
     "metadata": {},
     "output_type": "display_data"
    },
    {
     "name": "stdout",
     "output_type": "stream",
     "text": [
      "0.017004s\tinit\n",
      "5.308325s\tload\n",
      "0.762556s\thvg\n",
      "2.773313s\tnnls\n"
     ]
    },
    {
     "data": {
      "text/plain": "  0%|                                                  | 0/1000 [00:00<?, ?it/s]",
      "application/vnd.jupyter.widget-view+json": {
       "version_major": 2,
       "version_minor": 0,
       "model_id": "5eaf6caa0e2344478c4d2a86ef75efcf"
      }
     },
     "metadata": {},
     "output_type": "display_data"
    },
    {
     "name": "stdout",
     "output_type": "stream",
     "text": [
      "0.019452s\tinit\n",
      "5.769630s\tload\n",
      "0.519140s\thvg\n",
      "3.120177s\tnnls\n"
     ]
    },
    {
     "data": {
      "text/plain": "  0%|                                                  | 0/1000 [00:00<?, ?it/s]",
      "application/vnd.jupyter.widget-view+json": {
       "version_major": 2,
       "version_minor": 0,
       "model_id": "20e99ad06e834ee78b6647f240e8da51"
      }
     },
     "metadata": {},
     "output_type": "display_data"
    },
    {
     "name": "stdout",
     "output_type": "stream",
     "text": [
      "0.018184s\tinit\n",
      "5.850592s\tload\n",
      "0.610167s\thvg\n",
      "2.865021s\tnnls\n"
     ]
    },
    {
     "data": {
      "text/plain": "  0%|                                                  | 0/1000 [00:00<?, ?it/s]",
      "application/vnd.jupyter.widget-view+json": {
       "version_major": 2,
       "version_minor": 0,
       "model_id": "181755e6aa5a48c493551dcda2f1a2a9"
      }
     },
     "metadata": {},
     "output_type": "display_data"
    },
    {
     "name": "stdout",
     "output_type": "stream",
     "text": [
      "0.018543s\tinit\n",
      "6.054732s\tload\n",
      "0.638823s\thvg\n",
      "2.944046s\tnnls\n"
     ]
    },
    {
     "data": {
      "text/plain": "  0%|                                                  | 0/1000 [00:00<?, ?it/s]",
      "application/vnd.jupyter.widget-view+json": {
       "version_major": 2,
       "version_minor": 0,
       "model_id": "dbaaac6a1ef64ec391a7f8441fff7849"
      }
     },
     "metadata": {},
     "output_type": "display_data"
    },
    {
     "name": "stdout",
     "output_type": "stream",
     "text": [
      "0.007925s\tinit\n",
      "2.202157s\tload\n",
      "0.796471s\thvg\n",
      "1.198880s\tnnls\n"
     ]
    },
    {
     "data": {
      "text/plain": "  0%|                                                  | 0/1000 [00:00<?, ?it/s]",
      "application/vnd.jupyter.widget-view+json": {
       "version_major": 2,
       "version_minor": 0,
       "model_id": "b33f7aa357284ea580b054bd23653be3"
      }
     },
     "metadata": {},
     "output_type": "display_data"
    },
    {
     "name": "stdout",
     "output_type": "stream",
     "text": [
      "0.009091s\tinit\n",
      "2.342427s\tload\n",
      "0.773507s\thvg\n",
      "1.149833s\tnnls\n"
     ]
    },
    {
     "data": {
      "text/plain": "  0%|                                                  | 0/1000 [00:00<?, ?it/s]",
      "application/vnd.jupyter.widget-view+json": {
       "version_major": 2,
       "version_minor": 0,
       "model_id": "f2ddf97aa1314ec9a8d5d2b08a73d034"
      }
     },
     "metadata": {},
     "output_type": "display_data"
    },
    {
     "name": "stdout",
     "output_type": "stream",
     "text": [
      "0.008774s\tinit\n",
      "2.097463s\tload\n",
      "0.670582s\thvg\n",
      "1.127626s\tnnls\n"
     ]
    },
    {
     "data": {
      "text/plain": "  0%|                                                  | 0/1000 [00:00<?, ?it/s]",
      "application/vnd.jupyter.widget-view+json": {
       "version_major": 2,
       "version_minor": 0,
       "model_id": "923ba3203580489eb249ad36caca1c13"
      }
     },
     "metadata": {},
     "output_type": "display_data"
    },
    {
     "name": "stdout",
     "output_type": "stream",
     "text": [
      "0.009571s\tinit\n",
      "2.242510s\tload\n",
      "0.609167s\thvg\n",
      "1.124614s\tnnls\n"
     ]
    },
    {
     "data": {
      "text/plain": "  0%|                                                  | 0/1000 [00:00<?, ?it/s]",
      "application/vnd.jupyter.widget-view+json": {
       "version_major": 2,
       "version_minor": 0,
       "model_id": "de2df4148b3546bab679e5f064feb287"
      }
     },
     "metadata": {},
     "output_type": "display_data"
    },
    {
     "name": "stdout",
     "output_type": "stream",
     "text": [
      "0.010042s\tinit\n",
      "2.236771s\tload\n",
      "0.597160s\thvg\n",
      "1.140712s\tnnls\n"
     ]
    },
    {
     "data": {
      "text/plain": "  0%|                                                  | 0/1000 [00:00<?, ?it/s]",
      "application/vnd.jupyter.widget-view+json": {
       "version_major": 2,
       "version_minor": 0,
       "model_id": "1eb19b9cfbe64023ac579302f197e499"
      }
     },
     "metadata": {},
     "output_type": "display_data"
    },
    {
     "name": "stdout",
     "output_type": "stream",
     "text": [
      "0.009491s\tinit\n",
      "2.056017s\tload\n",
      "0.594993s\thvg\n",
      "1.129213s\tnnls\n"
     ]
    },
    {
     "data": {
      "text/plain": "  0%|                                                  | 0/1000 [00:00<?, ?it/s]",
      "application/vnd.jupyter.widget-view+json": {
       "version_major": 2,
       "version_minor": 0,
       "model_id": "bae2a6466d934bd78dd6a96c20efffb6"
      }
     },
     "metadata": {},
     "output_type": "display_data"
    },
    {
     "name": "stdout",
     "output_type": "stream",
     "text": [
      "0.009752s\tinit\n",
      "2.142208s\tload\n",
      "0.702024s\thvg\n",
      "1.273029s\tnnls\n"
     ]
    },
    {
     "data": {
      "text/plain": "  0%|                                                  | 0/1000 [00:00<?, ?it/s]",
      "application/vnd.jupyter.widget-view+json": {
       "version_major": 2,
       "version_minor": 0,
       "model_id": "8b6505ab1bc94841b6c01229c1414e2b"
      }
     },
     "metadata": {},
     "output_type": "display_data"
    },
    {
     "name": "stdout",
     "output_type": "stream",
     "text": [
      "0.009306s\tinit\n",
      "2.306061s\tload\n",
      "0.678646s\thvg\n",
      "1.142596s\tnnls\n"
     ]
    },
    {
     "data": {
      "text/plain": "  0%|                                                  | 0/1000 [00:00<?, ?it/s]",
      "application/vnd.jupyter.widget-view+json": {
       "version_major": 2,
       "version_minor": 0,
       "model_id": "5915e57907174c02bfa4b0efb921c5ef"
      }
     },
     "metadata": {},
     "output_type": "display_data"
    },
    {
     "name": "stdout",
     "output_type": "stream",
     "text": [
      "0.009402s\tinit\n",
      "2.183499s\tload\n",
      "0.670371s\thvg\n",
      "1.106359s\tnnls\n"
     ]
    },
    {
     "data": {
      "text/plain": "  0%|                                                  | 0/1000 [00:00<?, ?it/s]",
      "application/vnd.jupyter.widget-view+json": {
       "version_major": 2,
       "version_minor": 0,
       "model_id": "1b7c57b75514495fa72c43a8b0dbfbf2"
      }
     },
     "metadata": {},
     "output_type": "display_data"
    },
    {
     "name": "stdout",
     "output_type": "stream",
     "text": [
      "0.009408s\tinit\n",
      "2.200094s\tload\n",
      "0.618350s\thvg\n",
      "1.161066s\tnnls\n"
     ]
    },
    {
     "data": {
      "text/plain": "  0%|                                                  | 0/1000 [00:00<?, ?it/s]",
      "application/vnd.jupyter.widget-view+json": {
       "version_major": 2,
       "version_minor": 0,
       "model_id": "b413d90ea1ea4a3587d15ee593ba41ae"
      }
     },
     "metadata": {},
     "output_type": "display_data"
    },
    {
     "name": "stdout",
     "output_type": "stream",
     "text": [
      "0.009484s\tinit\n",
      "2.386685s\tload\n",
      "0.613301s\thvg\n",
      "1.162548s\tnnls\n"
     ]
    },
    {
     "data": {
      "text/plain": "  0%|                                                  | 0/1000 [00:00<?, ?it/s]",
      "application/vnd.jupyter.widget-view+json": {
       "version_major": 2,
       "version_minor": 0,
       "model_id": "d80b223ca59f40598610b4fdbf43cf52"
      }
     },
     "metadata": {},
     "output_type": "display_data"
    },
    {
     "name": "stdout",
     "output_type": "stream",
     "text": [
      "0.009110s\tinit\n",
      "2.201020s\tload\n",
      "0.602335s\thvg\n",
      "1.070229s\tnnls\n"
     ]
    },
    {
     "data": {
      "text/plain": "  0%|                                                  | 0/1000 [00:00<?, ?it/s]",
      "application/vnd.jupyter.widget-view+json": {
       "version_major": 2,
       "version_minor": 0,
       "model_id": "fd0554ba6d40409c9e019cb64149bbd5"
      }
     },
     "metadata": {},
     "output_type": "display_data"
    },
    {
     "name": "stdout",
     "output_type": "stream",
     "text": [
      "0.016906s\tinit\n",
      "5.395200s\tload\n",
      "0.722208s\thvg\n",
      "2.712524s\tnnls\n"
     ]
    },
    {
     "data": {
      "text/plain": "  0%|                                                  | 0/1000 [00:00<?, ?it/s]",
      "application/vnd.jupyter.widget-view+json": {
       "version_major": 2,
       "version_minor": 0,
       "model_id": "65a5370e7f014143b68212b01e8c06ef"
      }
     },
     "metadata": {},
     "output_type": "display_data"
    },
    {
     "name": "stdout",
     "output_type": "stream",
     "text": [
      "0.019176s\tinit\n",
      "5.280366s\tload\n",
      "0.672247s\thvg\n",
      "2.519655s\tnnls\n"
     ]
    },
    {
     "data": {
      "text/plain": "  0%|                                                  | 0/1000 [00:00<?, ?it/s]",
      "application/vnd.jupyter.widget-view+json": {
       "version_major": 2,
       "version_minor": 0,
       "model_id": "866fd7c89d864f35b8d5f7e26e1cc710"
      }
     },
     "metadata": {},
     "output_type": "display_data"
    },
    {
     "name": "stdout",
     "output_type": "stream",
     "text": [
      "0.018023s\tinit\n",
      "5.355783s\tload\n",
      "0.684786s\thvg\n",
      "2.618193s\tnnls\n"
     ]
    },
    {
     "data": {
      "text/plain": "  0%|                                                  | 0/1000 [00:00<?, ?it/s]",
      "application/vnd.jupyter.widget-view+json": {
       "version_major": 2,
       "version_minor": 0,
       "model_id": "a094036f719a4e4994c31fdb167032cb"
      }
     },
     "metadata": {},
     "output_type": "display_data"
    },
    {
     "name": "stdout",
     "output_type": "stream",
     "text": [
      "0.019188s\tinit\n",
      "5.453212s\tload\n",
      "0.650308s\thvg\n",
      "2.561114s\tnnls\n"
     ]
    },
    {
     "data": {
      "text/plain": "  0%|                                                  | 0/1000 [00:00<?, ?it/s]",
      "application/vnd.jupyter.widget-view+json": {
       "version_major": 2,
       "version_minor": 0,
       "model_id": "8463e2f9b27141d787ba8e2184932f75"
      }
     },
     "metadata": {},
     "output_type": "display_data"
    },
    {
     "name": "stdout",
     "output_type": "stream",
     "text": [
      "0.019777s\tinit\n",
      "5.463454s\tload\n",
      "0.599845s\thvg\n",
      "2.397555s\tnnls\n"
     ]
    },
    {
     "data": {
      "text/plain": "  0%|                                                  | 0/1000 [00:00<?, ?it/s]",
      "application/vnd.jupyter.widget-view+json": {
       "version_major": 2,
       "version_minor": 0,
       "model_id": "becc27acf5644f6980c19a4a70b011d6"
      }
     },
     "metadata": {},
     "output_type": "display_data"
    },
    {
     "name": "stdout",
     "output_type": "stream",
     "text": [
      "0.019961s\tinit\n",
      "5.300335s\tload\n",
      "0.628044s\thvg\n",
      "2.461428s\tnnls\n"
     ]
    },
    {
     "data": {
      "text/plain": "  0%|                                                  | 0/1000 [00:00<?, ?it/s]",
      "application/vnd.jupyter.widget-view+json": {
       "version_major": 2,
       "version_minor": 0,
       "model_id": "1e2e9fffcaf645fa8c745e95b8736288"
      }
     },
     "metadata": {},
     "output_type": "display_data"
    },
    {
     "name": "stdout",
     "output_type": "stream",
     "text": [
      "0.017749s\tinit\n",
      "5.324986s\tload\n",
      "0.777503s\thvg\n",
      "2.507017s\tnnls\n"
     ]
    },
    {
     "data": {
      "text/plain": "  0%|                                                  | 0/1000 [00:00<?, ?it/s]",
      "application/vnd.jupyter.widget-view+json": {
       "version_major": 2,
       "version_minor": 0,
       "model_id": "b8c8ff39938a4c8d9950e24c9b2ba252"
      }
     },
     "metadata": {},
     "output_type": "display_data"
    },
    {
     "name": "stdout",
     "output_type": "stream",
     "text": [
      "0.020290s\tinit\n",
      "5.442388s\tload\n",
      "0.691746s\thvg\n",
      "2.601878s\tnnls\n"
     ]
    },
    {
     "data": {
      "text/plain": "  0%|                                                  | 0/1000 [00:00<?, ?it/s]",
      "application/vnd.jupyter.widget-view+json": {
       "version_major": 2,
       "version_minor": 0,
       "model_id": "9b1c3eb81f4a4af388cb896254540a01"
      }
     },
     "metadata": {},
     "output_type": "display_data"
    },
    {
     "name": "stdout",
     "output_type": "stream",
     "text": [
      "0.020964s\tinit\n",
      "5.571629s\tload\n",
      "0.600095s\thvg\n",
      "2.675300s\tnnls\n"
     ]
    },
    {
     "data": {
      "text/plain": "  0%|                                                  | 0/1000 [00:00<?, ?it/s]",
      "application/vnd.jupyter.widget-view+json": {
       "version_major": 2,
       "version_minor": 0,
       "model_id": "40d7505b1a4b4c3eaa4acabb7fb0ef9e"
      }
     },
     "metadata": {},
     "output_type": "display_data"
    },
    {
     "name": "stdout",
     "output_type": "stream",
     "text": [
      "0.019574s\tinit\n",
      "5.757215s\tload\n",
      "0.608700s\thvg\n",
      "2.593404s\tnnls\n"
     ]
    },
    {
     "data": {
      "text/plain": "  0%|                                                  | 0/1000 [00:00<?, ?it/s]",
      "application/vnd.jupyter.widget-view+json": {
       "version_major": 2,
       "version_minor": 0,
       "model_id": "6116fe5ed8834f9397f59d8f725bccab"
      }
     },
     "metadata": {},
     "output_type": "display_data"
    },
    {
     "name": "stdout",
     "output_type": "stream",
     "text": [
      "0.019881s\tinit\n",
      "5.867578s\tload\n",
      "0.587566s\thvg\n",
      "2.517138s\tnnls\n"
     ]
    },
    {
     "data": {
      "text/plain": "  0%|                                                  | 0/1000 [00:00<?, ?it/s]",
      "application/vnd.jupyter.widget-view+json": {
       "version_major": 2,
       "version_minor": 0,
       "model_id": "71e2e80053a840b39ddceb83a410c773"
      }
     },
     "metadata": {},
     "output_type": "display_data"
    },
    {
     "name": "stdout",
     "output_type": "stream",
     "text": [
      "0.017699s\tinit\n",
      "5.174794s\tload\n",
      "0.599706s\thvg\n",
      "2.410495s\tnnls\n"
     ]
    },
    {
     "data": {
      "text/plain": "  0%|                                                  | 0/1000 [00:00<?, ?it/s]",
      "application/vnd.jupyter.widget-view+json": {
       "version_major": 2,
       "version_minor": 0,
       "model_id": "269e74bdbad946a596a7b261f3f65bd1"
      }
     },
     "metadata": {},
     "output_type": "display_data"
    },
    {
     "name": "stdout",
     "output_type": "stream",
     "text": [
      "0.014862s\tinit\n",
      "1.655235s\tseed H\n",
      "5.402978s\trank genes\n",
      "0.007411s\tseed W\n",
      "1.645881s\tNMF (3 it)\n",
      "1.723474s\tsave\n",
      "0.757956s\thvg\n",
      "2.555869s\tnnls\n"
     ]
    },
    {
     "data": {
      "text/plain": "  0%|                                                  | 0/1000 [00:00<?, ?it/s]",
      "application/vnd.jupyter.widget-view+json": {
       "version_major": 2,
       "version_minor": 0,
       "model_id": "433b6d38ca194d7caffad88e0ba639be"
      }
     },
     "metadata": {},
     "output_type": "display_data"
    },
    {
     "name": "stdout",
     "output_type": "stream",
     "text": [
      "0.017491s\tinit\n",
      "3.243549s\tload\n",
      "0.695534s\thvg\n",
      "2.573046s\tnnls\n"
     ]
    },
    {
     "data": {
      "text/plain": "  0%|                                                  | 0/1000 [00:00<?, ?it/s]",
      "application/vnd.jupyter.widget-view+json": {
       "version_major": 2,
       "version_minor": 0,
       "model_id": "334e9a335c33402c8e3c3e48258fd50d"
      }
     },
     "metadata": {},
     "output_type": "display_data"
    },
    {
     "name": "stdout",
     "output_type": "stream",
     "text": [
      "0.017490s\tinit\n",
      "3.179696s\tload\n",
      "0.680177s\thvg\n",
      "2.509449s\tnnls\n"
     ]
    },
    {
     "data": {
      "text/plain": "  0%|                                                  | 0/1000 [00:00<?, ?it/s]",
      "application/vnd.jupyter.widget-view+json": {
       "version_major": 2,
       "version_minor": 0,
       "model_id": "b0c7ae9a6d8c44d08f4bad988119c120"
      }
     },
     "metadata": {},
     "output_type": "display_data"
    },
    {
     "name": "stdout",
     "output_type": "stream",
     "text": [
      "0.017407s\tinit\n",
      "3.439299s\tload\n",
      "0.637375s\thvg\n",
      "2.769574s\tnnls\n"
     ]
    },
    {
     "data": {
      "text/plain": "  0%|                                                  | 0/1000 [00:00<?, ?it/s]",
      "application/vnd.jupyter.widget-view+json": {
       "version_major": 2,
       "version_minor": 0,
       "model_id": "fcab8641b1594a979b091069b0cf5ad9"
      }
     },
     "metadata": {},
     "output_type": "display_data"
    },
    {
     "name": "stdout",
     "output_type": "stream",
     "text": [
      "0.017786s\tinit\n",
      "3.756142s\tload\n",
      "0.627037s\thvg\n",
      "2.732433s\tnnls\n"
     ]
    },
    {
     "data": {
      "text/plain": "  0%|                                                  | 0/1000 [00:00<?, ?it/s]",
      "application/vnd.jupyter.widget-view+json": {
       "version_major": 2,
       "version_minor": 0,
       "model_id": "f80857928dd446ddb629931825c57fd0"
      }
     },
     "metadata": {},
     "output_type": "display_data"
    },
    {
     "name": "stdout",
     "output_type": "stream",
     "text": [
      "0.017027s\tinit\n",
      "3.305126s\tload\n",
      "0.634397s\thvg\n",
      "2.758710s\tnnls\n"
     ]
    },
    {
     "data": {
      "text/plain": "  0%|                                                  | 0/1000 [00:00<?, ?it/s]",
      "application/vnd.jupyter.widget-view+json": {
       "version_major": 2,
       "version_minor": 0,
       "model_id": "2831e8a3408d4bff938604ce509e6782"
      }
     },
     "metadata": {},
     "output_type": "display_data"
    },
    {
     "name": "stdout",
     "output_type": "stream",
     "text": [
      "0.017976s\tinit\n",
      "3.438868s\tload\n",
      "0.691952s\thvg\n",
      "2.452438s\tnnls\n"
     ]
    },
    {
     "data": {
      "text/plain": "  0%|                                                  | 0/1000 [00:00<?, ?it/s]",
      "application/vnd.jupyter.widget-view+json": {
       "version_major": 2,
       "version_minor": 0,
       "model_id": "5284968cf56d44b1b1c072717740233b"
      }
     },
     "metadata": {},
     "output_type": "display_data"
    },
    {
     "name": "stdout",
     "output_type": "stream",
     "text": [
      "0.016188s\tinit\n",
      "3.456816s\tload\n",
      "0.737276s\thvg\n",
      "2.534553s\tnnls\n"
     ]
    },
    {
     "data": {
      "text/plain": "  0%|                                                  | 0/1000 [00:00<?, ?it/s]",
      "application/vnd.jupyter.widget-view+json": {
       "version_major": 2,
       "version_minor": 0,
       "model_id": "5b8180f450c44e7dae934c31a7848e6e"
      }
     },
     "metadata": {},
     "output_type": "display_data"
    },
    {
     "name": "stdout",
     "output_type": "stream",
     "text": [
      "0.017522s\tinit\n",
      "3.548814s\tload\n",
      "0.708885s\thvg\n",
      "2.605795s\tnnls\n"
     ]
    },
    {
     "data": {
      "text/plain": "  0%|                                                  | 0/1000 [00:00<?, ?it/s]",
      "application/vnd.jupyter.widget-view+json": {
       "version_major": 2,
       "version_minor": 0,
       "model_id": "6610899be0a84dad8a6b2e289e3d4a64"
      }
     },
     "metadata": {},
     "output_type": "display_data"
    },
    {
     "name": "stdout",
     "output_type": "stream",
     "text": [
      "0.017318s\tinit\n",
      "3.437859s\tload\n",
      "0.610363s\thvg\n",
      "2.560897s\tnnls\n"
     ]
    },
    {
     "data": {
      "text/plain": "  0%|                                                  | 0/1000 [00:00<?, ?it/s]",
      "application/vnd.jupyter.widget-view+json": {
       "version_major": 2,
       "version_minor": 0,
       "model_id": "ce7635c9bd304ad2bf42bdda4d5180b5"
      }
     },
     "metadata": {},
     "output_type": "display_data"
    },
    {
     "name": "stdout",
     "output_type": "stream",
     "text": [
      "0.018112s\tinit\n",
      "3.518393s\tload\n",
      "0.649668s\thvg\n",
      "2.756879s\tnnls\n"
     ]
    },
    {
     "data": {
      "text/plain": "  0%|                                                  | 0/1000 [00:00<?, ?it/s]",
      "application/vnd.jupyter.widget-view+json": {
       "version_major": 2,
       "version_minor": 0,
       "model_id": "d4dc463e96d9447eaebec903387772d7"
      }
     },
     "metadata": {},
     "output_type": "display_data"
    },
    {
     "name": "stdout",
     "output_type": "stream",
     "text": [
      "0.017313s\tinit\n",
      "3.527392s\tload\n",
      "0.652696s\thvg\n",
      "2.964611s\tnnls\n"
     ]
    },
    {
     "data": {
      "text/plain": "  0%|                                                  | 0/1000 [00:00<?, ?it/s]",
      "application/vnd.jupyter.widget-view+json": {
       "version_major": 2,
       "version_minor": 0,
       "model_id": "9484edc4110e465489170171f7c3084a"
      }
     },
     "metadata": {},
     "output_type": "display_data"
    },
    {
     "name": "stdout",
     "output_type": "stream",
     "text": [
      "0.008918s\tinit\n",
      "1.231717s\tload\n",
      "0.797311s\thvg\n",
      "0.800192s\tnnls\n"
     ]
    },
    {
     "data": {
      "text/plain": "  0%|                                                  | 0/1000 [00:00<?, ?it/s]",
      "application/vnd.jupyter.widget-view+json": {
       "version_major": 2,
       "version_minor": 0,
       "model_id": "c230adb3ca52421fbfb8010744b4b34d"
      }
     },
     "metadata": {},
     "output_type": "display_data"
    },
    {
     "name": "stdout",
     "output_type": "stream",
     "text": [
      "0.009074s\tinit\n",
      "1.374521s\tload\n",
      "0.679998s\thvg\n",
      "0.786928s\tnnls\n"
     ]
    },
    {
     "data": {
      "text/plain": "  0%|                                                  | 0/1000 [00:00<?, ?it/s]",
      "application/vnd.jupyter.widget-view+json": {
       "version_major": 2,
       "version_minor": 0,
       "model_id": "87d8864e4c6747a88677c5dc39bc5040"
      }
     },
     "metadata": {},
     "output_type": "display_data"
    },
    {
     "name": "stdout",
     "output_type": "stream",
     "text": [
      "0.009087s\tinit\n",
      "1.338725s\tload\n",
      "0.695142s\thvg\n",
      "0.781262s\tnnls\n"
     ]
    },
    {
     "data": {
      "text/plain": "  0%|                                                  | 0/1000 [00:00<?, ?it/s]",
      "application/vnd.jupyter.widget-view+json": {
       "version_major": 2,
       "version_minor": 0,
       "model_id": "263c6bc46870411db5666cdcd67fb544"
      }
     },
     "metadata": {},
     "output_type": "display_data"
    },
    {
     "name": "stdout",
     "output_type": "stream",
     "text": [
      "0.008197s\tinit\n",
      "1.332708s\tload\n",
      "0.626267s\thvg\n",
      "0.815487s\tnnls\n"
     ]
    },
    {
     "data": {
      "text/plain": "  0%|                                                  | 0/1000 [00:00<?, ?it/s]",
      "application/vnd.jupyter.widget-view+json": {
       "version_major": 2,
       "version_minor": 0,
       "model_id": "1052dfbfc2f143e1a898d8e9663b9bb1"
      }
     },
     "metadata": {},
     "output_type": "display_data"
    },
    {
     "name": "stdout",
     "output_type": "stream",
     "text": [
      "0.008732s\tinit\n",
      "1.356421s\tload\n",
      "0.595415s\thvg\n",
      "0.826909s\tnnls\n"
     ]
    },
    {
     "data": {
      "text/plain": "  0%|                                                  | 0/1000 [00:00<?, ?it/s]",
      "application/vnd.jupyter.widget-view+json": {
       "version_major": 2,
       "version_minor": 0,
       "model_id": "17d3979713ee466589e4160fa8792155"
      }
     },
     "metadata": {},
     "output_type": "display_data"
    },
    {
     "name": "stdout",
     "output_type": "stream",
     "text": [
      "0.008713s\tinit\n",
      "1.335537s\tload\n",
      "0.625890s\thvg\n",
      "0.772251s\tnnls\n"
     ]
    },
    {
     "data": {
      "text/plain": "  0%|                                                  | 0/1000 [00:00<?, ?it/s]",
      "application/vnd.jupyter.widget-view+json": {
       "version_major": 2,
       "version_minor": 0,
       "model_id": "5b0e6b78097444babd1d340d215b36e8"
      }
     },
     "metadata": {},
     "output_type": "display_data"
    },
    {
     "name": "stdout",
     "output_type": "stream",
     "text": [
      "0.008746s\tinit\n",
      "1.347551s\tload\n",
      "0.662368s\thvg\n",
      "0.986041s\tnnls\n"
     ]
    },
    {
     "data": {
      "text/plain": "  0%|                                                  | 0/1000 [00:00<?, ?it/s]",
      "application/vnd.jupyter.widget-view+json": {
       "version_major": 2,
       "version_minor": 0,
       "model_id": "92f6ae92f3214877ad7c63a73ffcc01c"
      }
     },
     "metadata": {},
     "output_type": "display_data"
    },
    {
     "name": "stdout",
     "output_type": "stream",
     "text": [
      "0.008790s\tinit\n",
      "1.295088s\tload\n",
      "0.672628s\thvg\n",
      "0.789719s\tnnls\n"
     ]
    },
    {
     "data": {
      "text/plain": "  0%|                                                  | 0/1000 [00:00<?, ?it/s]",
      "application/vnd.jupyter.widget-view+json": {
       "version_major": 2,
       "version_minor": 0,
       "model_id": "6b16f20decbf44a48106ee52a8095312"
      }
     },
     "metadata": {},
     "output_type": "display_data"
    },
    {
     "name": "stdout",
     "output_type": "stream",
     "text": [
      "0.009006s\tinit\n",
      "1.278528s\tload\n",
      "0.709631s\thvg\n",
      "0.774700s\tnnls\n"
     ]
    },
    {
     "data": {
      "text/plain": "  0%|                                                  | 0/1000 [00:00<?, ?it/s]",
      "application/vnd.jupyter.widget-view+json": {
       "version_major": 2,
       "version_minor": 0,
       "model_id": "85509f81dfdf472fbfa445096ef66998"
      }
     },
     "metadata": {},
     "output_type": "display_data"
    },
    {
     "name": "stdout",
     "output_type": "stream",
     "text": [
      "0.009280s\tinit\n",
      "1.273791s\tload\n",
      "0.617803s\thvg\n",
      "0.819251s\tnnls\n"
     ]
    },
    {
     "data": {
      "text/plain": "  0%|                                                  | 0/1000 [00:00<?, ?it/s]",
      "application/vnd.jupyter.widget-view+json": {
       "version_major": 2,
       "version_minor": 0,
       "model_id": "18c80b28fcd541749fa7cf44becb1f5b"
      }
     },
     "metadata": {},
     "output_type": "display_data"
    },
    {
     "name": "stdout",
     "output_type": "stream",
     "text": [
      "0.008801s\tinit\n",
      "1.220933s\tload\n",
      "0.592804s\thvg\n",
      "0.755606s\tnnls\n"
     ]
    },
    {
     "data": {
      "text/plain": "  0%|                                                  | 0/1000 [00:00<?, ?it/s]",
      "application/vnd.jupyter.widget-view+json": {
       "version_major": 2,
       "version_minor": 0,
       "model_id": "36527d1d697b43a39a871e445305cbeb"
      }
     },
     "metadata": {},
     "output_type": "display_data"
    },
    {
     "name": "stdout",
     "output_type": "stream",
     "text": [
      "0.009146s\tinit\n",
      "1.311121s\tload\n",
      "0.659922s\thvg\n",
      "0.958182s\tnnls\n"
     ]
    },
    {
     "data": {
      "text/plain": "  0%|                                                  | 0/1000 [00:00<?, ?it/s]",
      "application/vnd.jupyter.widget-view+json": {
       "version_major": 2,
       "version_minor": 0,
       "model_id": "889dce44dd6245189ef8585f60ea3a92"
      }
     },
     "metadata": {},
     "output_type": "display_data"
    },
    {
     "name": "stdout",
     "output_type": "stream",
     "text": [
      "0.012618s\tinit\n",
      "3.189261s\tload\n",
      "0.788316s\thvg\n",
      "2.508323s\tnnls\n"
     ]
    },
    {
     "data": {
      "text/plain": "  0%|                                                  | 0/1000 [00:00<?, ?it/s]",
      "application/vnd.jupyter.widget-view+json": {
       "version_major": 2,
       "version_minor": 0,
       "model_id": "11b63f32fe5c4891ae2c8f1a2fa535bf"
      }
     },
     "metadata": {},
     "output_type": "display_data"
    },
    {
     "name": "stdout",
     "output_type": "stream",
     "text": [
      "0.015958s\tinit\n",
      "3.235777s\tload\n",
      "0.694994s\thvg\n",
      "2.457529s\tnnls\n"
     ]
    },
    {
     "data": {
      "text/plain": "  0%|                                                  | 0/1000 [00:00<?, ?it/s]",
      "application/vnd.jupyter.widget-view+json": {
       "version_major": 2,
       "version_minor": 0,
       "model_id": "a7a4a6ee7adb4713bd10d7c88a0c6997"
      }
     },
     "metadata": {},
     "output_type": "display_data"
    },
    {
     "name": "stdout",
     "output_type": "stream",
     "text": [
      "0.015905s\tinit\n",
      "3.189733s\tload\n",
      "0.696323s\thvg\n",
      "2.557780s\tnnls\n"
     ]
    },
    {
     "data": {
      "text/plain": "  0%|                                                  | 0/1000 [00:00<?, ?it/s]",
      "application/vnd.jupyter.widget-view+json": {
       "version_major": 2,
       "version_minor": 0,
       "model_id": "9db47053806c45aba0badb12ef2dc956"
      }
     },
     "metadata": {},
     "output_type": "display_data"
    },
    {
     "name": "stdout",
     "output_type": "stream",
     "text": [
      "0.016003s\tinit\n",
      "3.249409s\tload\n",
      "0.615613s\thvg\n",
      "2.351545s\tnnls\n"
     ]
    },
    {
     "data": {
      "text/plain": "  0%|                                                  | 0/1000 [00:00<?, ?it/s]",
      "application/vnd.jupyter.widget-view+json": {
       "version_major": 2,
       "version_minor": 0,
       "model_id": "74eb019c50a240b289366d75049fb267"
      }
     },
     "metadata": {},
     "output_type": "display_data"
    },
    {
     "name": "stdout",
     "output_type": "stream",
     "text": [
      "0.015760s\tinit\n",
      "3.135441s\tload\n",
      "0.590639s\thvg\n",
      "2.329307s\tnnls\n"
     ]
    },
    {
     "data": {
      "text/plain": "  0%|                                                  | 0/1000 [00:00<?, ?it/s]",
      "application/vnd.jupyter.widget-view+json": {
       "version_major": 2,
       "version_minor": 0,
       "model_id": "258830357217471ea001dbbfb56c0dd0"
      }
     },
     "metadata": {},
     "output_type": "display_data"
    },
    {
     "name": "stdout",
     "output_type": "stream",
     "text": [
      "0.015858s\tinit\n",
      "3.237776s\tload\n",
      "0.622338s\thvg\n",
      "2.649170s\tnnls\n"
     ]
    },
    {
     "data": {
      "text/plain": "  0%|                                                  | 0/1000 [00:00<?, ?it/s]",
      "application/vnd.jupyter.widget-view+json": {
       "version_major": 2,
       "version_minor": 0,
       "model_id": "52236c5656ec403cbb0a0bdae4061414"
      }
     },
     "metadata": {},
     "output_type": "display_data"
    },
    {
     "name": "stdout",
     "output_type": "stream",
     "text": [
      "0.016306s\tinit\n",
      "3.241968s\tload\n",
      "0.666079s\thvg\n",
      "2.354202s\tnnls\n"
     ]
    },
    {
     "data": {
      "text/plain": "  0%|                                                  | 0/1000 [00:00<?, ?it/s]",
      "application/vnd.jupyter.widget-view+json": {
       "version_major": 2,
       "version_minor": 0,
       "model_id": "2e74f9f0ed2647be8ee6194b115aaaf2"
      }
     },
     "metadata": {},
     "output_type": "display_data"
    },
    {
     "name": "stdout",
     "output_type": "stream",
     "text": [
      "0.015948s\tinit\n",
      "3.095335s\tload\n",
      "0.648032s\thvg\n",
      "2.328646s\tnnls\n"
     ]
    },
    {
     "data": {
      "text/plain": "  0%|                                                  | 0/1000 [00:00<?, ?it/s]",
      "application/vnd.jupyter.widget-view+json": {
       "version_major": 2,
       "version_minor": 0,
       "model_id": "c05c27d16543477e85ab3c5e0d401459"
      }
     },
     "metadata": {},
     "output_type": "display_data"
    },
    {
     "name": "stdout",
     "output_type": "stream",
     "text": [
      "0.016092s\tinit\n",
      "3.111056s\tload\n",
      "0.689708s\thvg\n",
      "2.449569s\tnnls\n"
     ]
    },
    {
     "data": {
      "text/plain": "  0%|                                                  | 0/1000 [00:00<?, ?it/s]",
      "application/vnd.jupyter.widget-view+json": {
       "version_major": 2,
       "version_minor": 0,
       "model_id": "87bb96e4d9e84146ae3019fc512d5331"
      }
     },
     "metadata": {},
     "output_type": "display_data"
    },
    {
     "name": "stdout",
     "output_type": "stream",
     "text": [
      "0.016745s\tinit\n",
      "3.342822s\tload\n",
      "0.631175s\thvg\n",
      "2.486074s\tnnls\n"
     ]
    },
    {
     "data": {
      "text/plain": "  0%|                                                  | 0/1000 [00:00<?, ?it/s]",
      "application/vnd.jupyter.widget-view+json": {
       "version_major": 2,
       "version_minor": 0,
       "model_id": "7a43976847a7422da2f560ee190956b6"
      }
     },
     "metadata": {},
     "output_type": "display_data"
    },
    {
     "name": "stdout",
     "output_type": "stream",
     "text": [
      "0.015293s\tinit\n",
      "3.260889s\tload\n",
      "0.593906s\thvg\n",
      "2.289562s\tnnls\n"
     ]
    },
    {
     "data": {
      "text/plain": "  0%|                                                  | 0/1000 [00:00<?, ?it/s]",
      "application/vnd.jupyter.widget-view+json": {
       "version_major": 2,
       "version_minor": 0,
       "model_id": "8fb1066e09a44ed4b5c7807ab291a1ad"
      }
     },
     "metadata": {},
     "output_type": "display_data"
    },
    {
     "name": "stdout",
     "output_type": "stream",
     "text": [
      "0.015986s\tinit\n",
      "3.201201s\tload\n",
      "0.613627s\thvg\n",
      "2.481105s\tnnls\n"
     ]
    },
    {
     "data": {
      "text/plain": "  0%|                                                  | 0/1000 [00:00<?, ?it/s]",
      "application/vnd.jupyter.widget-view+json": {
       "version_major": 2,
       "version_minor": 0,
       "model_id": "cabb6c77866042bf87863a00d426e0c4"
      }
     },
     "metadata": {},
     "output_type": "display_data"
    }
   ],
   "source": [
    "def correlate_results(reference, target):\n",
    "    scores = SpotNMatch().match(reference, target)[3]\n",
    "    ref = reference.copy_with(reference.anndata[:, GENES].copy())\n",
    "    tgt = target.copy_with(target.anndata[:, GENES].copy())\n",
    "    selector = GreedySelector()\n",
    "    deconvolver = IntegralDeconvolver(ref, selector=selector)\n",
    "    predicted = deconvolver.deconvolve(tgt)\n",
    "    accuracy = evaluate_jsd(tgt, predicted)\n",
    "    return scores, accuracy, predicted\n",
    "\n",
    "results = {}\n",
    "predicteds = {}\n",
    "\n",
    "for reference_key, reference_path in REFERENCE_DATASETS.items():\n",
    "    reference = SingleCellDataset.read(reference_path)\n",
    "    for target_key, target_path in TARGET_DATASETS.items():\n",
    "        target = SpatialTranscriptomicsDataset.read(target_path)\n",
    "        score, accuracy, predicted = correlate_results(reference, target)\n",
    "        results[(reference_key, target_key)] = (score, accuracy)\n",
    "        predicteds[(reference_key, target_key)] = predicted"
   ],
   "metadata": {
    "collapsed": false
   }
  },
  {
   "cell_type": "code",
   "execution_count": 10,
   "outputs": [
    {
     "data": {
      "text/plain": "dict_keys([(('Harvard', 'full', 'F'), ('Harvard', 'full', 'F1')), (('Harvard', 'full', 'F'), ('Harvard', 'V1', 'F1')), (('Harvard', 'full', 'F'), ('Harvard', 'V2', 'F1')), (('Harvard', 'full', 'F'), ('Sanger', 'full', 'F1')), (('Harvard', 'full', 'F'), ('Sanger', 'V1', 'F1')), (('Harvard', 'full', 'F'), ('Sanger', 'V2', 'F1')), (('Harvard', 'full', 'F'), ('Harvard', 'full', 'F2')), (('Harvard', 'full', 'F'), ('Harvard', 'V1', 'F2')), (('Harvard', 'full', 'F'), ('Harvard', 'V2', 'F2')), (('Harvard', 'full', 'F'), ('Sanger', 'full', 'F2')), (('Harvard', 'full', 'F'), ('Sanger', 'V1', 'F2')), (('Harvard', 'full', 'F'), ('Sanger', 'V2', 'F2')), (('Harvard', 'V1', 'F'), ('Harvard', 'full', 'F1')), (('Harvard', 'V1', 'F'), ('Harvard', 'V1', 'F1')), (('Harvard', 'V1', 'F'), ('Harvard', 'V2', 'F1')), (('Harvard', 'V1', 'F'), ('Sanger', 'full', 'F1')), (('Harvard', 'V1', 'F'), ('Sanger', 'V1', 'F1')), (('Harvard', 'V1', 'F'), ('Sanger', 'V2', 'F1')), (('Harvard', 'V1', 'F'), ('Harvard', 'full', 'F2')), (('Harvard', 'V1', 'F'), ('Harvard', 'V1', 'F2')), (('Harvard', 'V1', 'F'), ('Harvard', 'V2', 'F2')), (('Harvard', 'V1', 'F'), ('Sanger', 'full', 'F2')), (('Harvard', 'V1', 'F'), ('Sanger', 'V1', 'F2')), (('Harvard', 'V1', 'F'), ('Sanger', 'V2', 'F2')), (('Harvard', 'V2', 'F'), ('Harvard', 'full', 'F1')), (('Harvard', 'V2', 'F'), ('Harvard', 'V1', 'F1')), (('Harvard', 'V2', 'F'), ('Harvard', 'V2', 'F1')), (('Harvard', 'V2', 'F'), ('Sanger', 'full', 'F1')), (('Harvard', 'V2', 'F'), ('Sanger', 'V1', 'F1')), (('Harvard', 'V2', 'F'), ('Sanger', 'V2', 'F1')), (('Harvard', 'V2', 'F'), ('Harvard', 'full', 'F2')), (('Harvard', 'V2', 'F'), ('Harvard', 'V1', 'F2')), (('Harvard', 'V2', 'F'), ('Harvard', 'V2', 'F2')), (('Harvard', 'V2', 'F'), ('Sanger', 'full', 'F2')), (('Harvard', 'V2', 'F'), ('Sanger', 'V1', 'F2')), (('Harvard', 'V2', 'F'), ('Sanger', 'V2', 'F2')), (('Sanger', 'full', 'F'), ('Harvard', 'full', 'F1')), (('Sanger', 'full', 'F'), ('Harvard', 'V1', 'F1')), (('Sanger', 'full', 'F'), ('Harvard', 'V2', 'F1')), (('Sanger', 'full', 'F'), ('Sanger', 'full', 'F1')), (('Sanger', 'full', 'F'), ('Sanger', 'V1', 'F1')), (('Sanger', 'full', 'F'), ('Sanger', 'V2', 'F1')), (('Sanger', 'full', 'F'), ('Harvard', 'full', 'F2')), (('Sanger', 'full', 'F'), ('Harvard', 'V1', 'F2')), (('Sanger', 'full', 'F'), ('Harvard', 'V2', 'F2')), (('Sanger', 'full', 'F'), ('Sanger', 'full', 'F2')), (('Sanger', 'full', 'F'), ('Sanger', 'V1', 'F2')), (('Sanger', 'full', 'F'), ('Sanger', 'V2', 'F2')), (('Sanger', 'V1', 'F'), ('Harvard', 'full', 'F1')), (('Sanger', 'V1', 'F'), ('Harvard', 'V1', 'F1')), (('Sanger', 'V1', 'F'), ('Harvard', 'V2', 'F1')), (('Sanger', 'V1', 'F'), ('Sanger', 'full', 'F1')), (('Sanger', 'V1', 'F'), ('Sanger', 'V1', 'F1')), (('Sanger', 'V1', 'F'), ('Sanger', 'V2', 'F1')), (('Sanger', 'V1', 'F'), ('Harvard', 'full', 'F2')), (('Sanger', 'V1', 'F'), ('Harvard', 'V1', 'F2')), (('Sanger', 'V1', 'F'), ('Harvard', 'V2', 'F2')), (('Sanger', 'V1', 'F'), ('Sanger', 'full', 'F2')), (('Sanger', 'V1', 'F'), ('Sanger', 'V1', 'F2')), (('Sanger', 'V1', 'F'), ('Sanger', 'V2', 'F2')), (('Sanger', 'V2', 'F'), ('Harvard', 'full', 'F1')), (('Sanger', 'V2', 'F'), ('Harvard', 'V1', 'F1')), (('Sanger', 'V2', 'F'), ('Harvard', 'V2', 'F1')), (('Sanger', 'V2', 'F'), ('Sanger', 'full', 'F1')), (('Sanger', 'V2', 'F'), ('Sanger', 'V1', 'F1')), (('Sanger', 'V2', 'F'), ('Sanger', 'V2', 'F1')), (('Sanger', 'V2', 'F'), ('Harvard', 'full', 'F2')), (('Sanger', 'V2', 'F'), ('Harvard', 'V1', 'F2')), (('Sanger', 'V2', 'F'), ('Harvard', 'V2', 'F2')), (('Sanger', 'V2', 'F'), ('Sanger', 'full', 'F2')), (('Sanger', 'V2', 'F'), ('Sanger', 'V1', 'F2')), (('Sanger', 'V2', 'F'), ('Sanger', 'V2', 'F2'))])"
     },
     "execution_count": 10,
     "metadata": {},
     "output_type": "execute_result"
    }
   ],
   "source": [
    "results.keys()"
   ],
   "metadata": {
    "collapsed": false
   }
  },
  {
   "cell_type": "code",
   "execution_count": 15,
   "outputs": [
    {
     "data": {
      "text/plain": "<Figure size 500x500 with 4 Axes>",
      "image/png": "[encoded data removed]"
     },
     "metadata": {},
     "output_type": "display_data"
    }
   ],
   "source": [
    "figure, grid = plot.subplots(2, 2, figsize=(5,5))\n",
    "figure.subplots_adjust( 0.1, 0.1, 0.95, 0.95)\n",
    "\n",
    "for ref, index in zip([\"Harvard Female Full\", \"Harvard Female V1\"], range(2)):\n",
    "    figure.text(0.99,(1 - (index * (1 / 2) + (1/4))), ref, rotation=-90, va=\"center\", ha=\"right\")\n",
    "\n",
    "for ref, index in zip([\"H6 Full\", \"H6 V1\"], range(2)):\n",
    "    figure.text((index * (1 / 2) + (1/4)), 0.99, ref, ha=\"center\", va=\"top\")\n",
    "\n",
    "for i in range(2):\n",
    "    grid[i][0].set_ylabel(\"JSD\")\n",
    "\n",
    "for i in range(2):\n",
    "    grid[1][i].set_xlabel(\"score\")\n",
    "\n",
    "for ref, axes in zip(REFERENCE_DATASETS.keys(), grid):\n",
    "    for tgt, ax in zip(TARGET_DATASETS.keys(), axes):\n",
    "        score, accuracy = results[(ref, tgt)]\n",
    "\n",
    "        ax.set_xlim(0, 1)\n",
    "        ax.set_ylim(0, 1)\n",
    "        ax.scatter(score,accuracy)\n",
    "\n",
    "figure.savefig(\"../../output/spot_accuracy_correlation_excerpt.pdf\")"
   ],
   "metadata": {
    "collapsed": false
   }
  },
  {
   "cell_type": "code",
   "execution_count": 12,
   "outputs": [
    {
     "data": {
      "text/plain": "array([[ 1.        , -0.57934162],\n       [-0.57934162,  1.        ]])"
     },
     "execution_count": 12,
     "metadata": {},
     "output_type": "execute_result"
    },
    {
     "data": {
      "text/plain": "<Figure size 640x480 with 1 Axes>",
      "image/png": "[encoded data removed]"
     },
     "metadata": {},
     "output_type": "display_data"
    }
   ],
   "source": [
    "scores = []\n",
    "accuracies = []\n",
    "\n",
    "for key, (score, accuracy) in results.items():\n",
    "    scores.append(score.mean())\n",
    "    accuracies.append(accuracy.mean())\n",
    "\n",
    "plot.xlabel(\"score\")\n",
    "plot.ylabel(\"RMSE\")\n",
    "plot.scatter(scores, accuracies)\n",
    "np.corrcoef(scores, accuracies)"
   ],
   "metadata": {
    "collapsed": false
   }
  },
  {
   "cell_type": "code",
   "execution_count": 13,
   "outputs": [],
   "source": [
    "plot.rcParams.update({\n",
    "    \"text.usetex\": True,\n",
    "})"
   ],
   "metadata": {
    "collapsed": false
   }
  },
  {
   "cell_type": "code",
   "execution_count": 16,
   "outputs": [
    {
     "name": "stderr",
     "output_type": "stream",
     "text": [
      "/var/folders/2j/mgb23mj938j7lcpf33rzf5m40000gp/T/ipykernel_9069/2544421831.py:8: UserWarning: Matplotlib is currently using module://matplotlib_inline.backend_inline, which is a non-GUI backend, so cannot show the figure.\n",
      "  fig.show()\n"
     ]
    },
    {
     "data": {
      "text/plain": "<Figure size 1500x900 with 1 Axes>",
      "image/png": "[encoded data removed]"
     },
     "metadata": {},
     "output_type": "display_data"
    }
   ],
   "source": [
    "fig = plot.figure(figsize=(5, 3), dpi=300)\n",
    "fig.subplots_adjust(left=0.15, right=0.95, bottom=0.15)\n",
    "plt = fig.add_subplot()\n",
    "plt.scatter(scores, accuracies)\n",
    "plt.set_xlabel(\"score\")\n",
    "plt.set_ylabel(\"JSD\")\n",
    "#plt.set_title(\"filter-genes = none (HCA dataset)\")\n",
    "fig.show()\n",
    "fig.savefig(\"../../output/accuracy_correlation.pdf\")"
   ],
   "metadata": {
    "collapsed": false
   }
  },
  {
   "cell_type": "code",
   "execution_count": 14,
   "outputs": [],
   "source": [],
   "metadata": {
    "collapsed": false
   }
  }
 ],
 "metadata": {
  "kernelspec": {
   "display_name": "Python 3",
   "language": "python",
   "name": "python3"
  },
  "language_info": {
   "codemirror_mode": {
    "name": "ipython",
    "version": 2
   },
   "file_extension": ".py",
   "mimetype": "text/x-python",
   "name": "python",
   "nbconvert_exporter": "python",
   "pygments_lexer": "ipython2",
   "version": "2.7.6"
  }
 },
 "nbformat": 4,
 "nbformat_minor": 0
}
