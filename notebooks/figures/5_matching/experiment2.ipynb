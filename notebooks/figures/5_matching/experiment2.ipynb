{
 "cells": [
  {
   "cell_type": "markdown",
   "source": [
    "# Experiment 2\n",
    "Evaluating correlation between SpotNMatch scores and deconvolution accuracy."
   ],
   "metadata": {
    "collapsed": false
   }
  },
  {
   "cell_type": "code",
   "execution_count": 1,
   "outputs": [],
   "source": [
    "import numpy\n",
    "import pandas as pd\n",
    "import matplotlib.pyplot as plot\n",
    "import numpy as np\n",
    "\n",
    "from scstmatch.matching import SPOTLightMatcher\n",
    "from scstmatch.data import SingleCellDataset, SpatialTranscriptomicsDataset\n",
    "from analysis.cell_based_selector import cell_based_analysis"
   ],
   "metadata": {
    "collapsed": false
   }
  },
  {
   "cell_type": "markdown",
   "source": [
    "## Datasets\n",
    "We will use the same four datasets for this test, each testing a combination of mismatches.\n",
    "We have excluded the gender mismatch as it tends to contribute very little."
   ],
   "metadata": {
    "collapsed": false
   }
  },
  {
   "cell_type": "code",
   "execution_count": 2,
   "outputs": [],
   "source": [
    "DATA_PATH = \"../../../data\"\n",
    "REFERENCE_PATH = f\"{DATA_PATH}/reference\"\n",
    "REFERENCE_DATASETS = {\n",
    "    (\"Harvard\", \"full\", \"F\"): f\"{REFERENCE_PATH}/hca_harvard_gender_Female.sc.h5ad\",\n",
    "    (\"Harvard\", \"V1\", \"F\"): f\"{REFERENCE_PATH}/hca_harvard_gender_Female_-muscles.sc.h5ad\",\n",
    "    (\"Harvard\", \"V2\", \"F\"): f\"{REFERENCE_PATH}/hca_harvard_gender_Female_-endothelial.sc.h5ad\",\n",
    "    (\"Sanger\", \"full\", \"F\"): f\"{REFERENCE_PATH}/hca_sanger_gender_Female.sc.h5ad\",\n",
    "    (\"Sanger\", \"V1\", \"F\"): f\"{REFERENCE_PATH}/hca_sanger_gender_Female_-muscles.sc.h5ad\",\n",
    "    (\"Sanger\", \"V2\", \"F\"): f\"{REFERENCE_PATH}/hca_sanger_gender_Female_-endothelial.sc.h5ad\",\n",
    "}\n",
    "\n",
    "TARGET_PATH = f\"{DATA_PATH}/st\"\n",
    "TARGET_DATASETS = {\n",
    "    (\"Harvard\", \"full\", \"F1\"): f\"{TARGET_PATH}/hca_harvard_donor_H6.st.h5ad\",\n",
    "    (\"Harvard\", \"V1\", \"F1\"): f\"{TARGET_PATH}/hca_harvard_donor_H6_-muscles.st.h5ad\",\n",
    "    (\"Harvard\", \"V2\", \"F1\"): f\"{TARGET_PATH}/hca_harvard_donor_H6_-endothelial.st.h5ad\",\n",
    "    (\"Sanger\", \"full\", \"F1\"): f\"{TARGET_PATH}/hca_sanger_donor_D5.st.h5ad\",\n",
    "    (\"Sanger\", \"V1\", \"F1\"): f\"{TARGET_PATH}/hca_sanger_donor_D5_-muscles.st.h5ad\",\n",
    "    (\"Sanger\", \"V2\", \"F1\"): f\"{TARGET_PATH}/hca_sanger_donor_D5_-endothelial.st.h5ad\",\n",
    "    (\"Harvard\", \"full\", \"F2\"): f\"{TARGET_PATH}/hca_harvard_donor_H7.st.h5ad\",\n",
    "    (\"Harvard\", \"V1\", \"F2\"): f\"{TARGET_PATH}/hca_harvard_donor_H7_-muscles.st.h5ad\",\n",
    "    (\"Harvard\", \"V2\", \"F2\"): f\"{TARGET_PATH}/hca_harvard_donor_H7_-endothelial.st.h5ad\",\n",
    "    (\"Sanger\", \"full\", \"F2\"): f\"{TARGET_PATH}/hca_sanger_donor_D1.st.h5ad\",\n",
    "    (\"Sanger\", \"V1\", \"F2\"): f\"{TARGET_PATH}/hca_sanger_donor_D1_-muscles.st.h5ad\",\n",
    "    (\"Sanger\", \"V2\", \"F2\"): f\"{TARGET_PATH}/hca_sanger_donor_D1_-endothelial.st.h5ad\",\n",
    "}\n",
    "\n",
    "# Precomputed gene selection\n",
    "GENES = ['ABCA6', 'ABCA8', 'ABCA9', 'ACACB', 'ACSL1', 'ACTA2', 'ADGRB3', 'ANK3',\n",
    "         'ANKRD44', 'ANO2', 'ARHGAP15', 'BCL2', 'BICC1', 'BTNL9', 'CADM2',\n",
    "         'CADPS', 'CARMIL1', 'CARMN', 'CCND3', 'CD163', 'CDC42SE2', 'CDH19',\n",
    "         'CMYA5', 'CTNNA3', 'DCN', 'DLC1', 'DOCK2', 'EGFL7', 'EGFLAM', 'EHBP1',\n",
    "         'ELMO1', 'EPS8', 'ERBB4', 'FHL2', 'FKBP5', 'FMN1', 'FRMD3', 'FRMD4B',\n",
    "         'FYN', 'GNAQ', 'GPAM', 'GRIP1', 'GUCY1A2', 'ID1', 'IKZF1', 'IQGAP2',\n",
    "         'KCNAB1', 'LAMA2', 'LDB2', 'LINC02248', 'LIPE-AS1', 'LRMDA', 'MAPK10',\n",
    "         'MGST1', 'MLIP', 'MYBPC3', 'MYH11', 'MYH6', 'MYL7', 'NEAT1', 'NEGR1',\n",
    "         'NR2F2-AS1', 'NRXN1', 'NRXN3', 'NTRK3', 'PAM', 'PARP8', 'PDE3B',\n",
    "         'PDE4DIP', 'PDGFRB', 'PID1', 'PLA2G5', 'PLIN1', 'PNPLA2', 'PRKG1',\n",
    "         'PTPRB', 'PTPRC', 'RABGAP1L', 'RBM47', 'RGS5', 'RORA', 'RYR2', 'SCN7A',\n",
    "         'SGCD', 'SKAP1', 'SLC8A1', 'SLIT3', 'SOX5', 'ST6GALNAC3', 'SYNE1',\n",
    "         'TBXAS1', 'TRDN-AS1', 'TTN', 'VWF', 'ZFHX3']"
   ],
   "metadata": {
    "collapsed": false
   }
  },
  {
   "cell_type": "markdown",
   "source": [
    "## Generate Table Data\n",
    "We will generate a scatter plot grid of the separate results."
   ],
   "metadata": {
    "collapsed": false
   }
  },
  {
   "cell_type": "code",
   "execution_count": 4,
   "outputs": [
    {
     "name": "stdout",
     "output_type": "stream",
     "text": [
      "0.016938s\tinit\n",
      "5.914231s\tload\n",
      "0.951057s\thvg\n",
      "3.218726s\tnnls\n"
     ]
    },
    {
     "name": "stderr",
     "output_type": "stream",
     "text": [
      "/Users/potti/Documents/HPI/thesis/spatialtranscriptomics/st_data_gen/.venv/lib/python3.9/site-packages/scanpy/preprocessing/_normalization.py:170: UserWarning: Received a view of an AnnData. Making a copy.\n",
      "  view_to_actual(adata)\n"
     ]
    },
    {
     "name": "stdout",
     "output_type": "stream",
     "text": [
      "training anew\n",
      "caching training data\n"
     ]
    },
    {
     "name": "stderr",
     "output_type": "stream",
     "text": [
      "100%|██████████████████████████████████████| 1000/1000 [00:05<00:00, 192.57it/s]\n"
     ]
    },
    {
     "name": "stdout",
     "output_type": "stream",
     "text": [
      "JSD: mean=0.2107207477092743, quartiles=[0.     0.1163 0.2231 0.2878 0.5266]\n",
      "RMSE: all=0.07237403094768524, quartiles=[0.     0.0447 0.0632 0.0894 0.2683]\n",
      "RMSE: all=0.07237403094768524, quartiles=[0.     0.0447 0.0632 0.0894 0.2683]\n",
      "0.019601s\tinit\n",
      "5.963565s\tload\n",
      "0.905303s\thvg\n",
      "3.249056s\tnnls\n"
     ]
    },
    {
     "name": "stderr",
     "output_type": "stream",
     "text": [
      "/Users/potti/Documents/HPI/thesis/spatialtranscriptomics/st_data_gen/.venv/lib/python3.9/site-packages/scanpy/preprocessing/_normalization.py:170: UserWarning: Received a view of an AnnData. Making a copy.\n",
      "  view_to_actual(adata)\n"
     ]
    },
    {
     "name": "stdout",
     "output_type": "stream",
     "text": [
      "training anew\n",
      "caching training data\n"
     ]
    },
    {
     "name": "stderr",
     "output_type": "stream",
     "text": [
      "100%|██████████████████████████████████████| 1000/1000 [00:04<00:00, 212.06it/s]\n"
     ]
    },
    {
     "name": "stdout",
     "output_type": "stream",
     "text": [
      "JSD: mean=0.2057221680879593, quartiles=[0.     0.1062 0.2077 0.2878 0.513 ]\n",
      "RMSE: all=0.07072481513023376, quartiles=[0.     0.0447 0.0632 0.0775 0.2145]\n",
      "RMSE: all=0.07072481513023376, quartiles=[0.     0.0447 0.0632 0.0775 0.2145]\n",
      "0.018188s\tinit\n",
      "5.657368s\tload\n",
      "0.791635s\thvg\n",
      "3.028008s\tnnls\n"
     ]
    },
    {
     "name": "stderr",
     "output_type": "stream",
     "text": [
      "/Users/potti/Documents/HPI/thesis/spatialtranscriptomics/st_data_gen/.venv/lib/python3.9/site-packages/scanpy/preprocessing/_normalization.py:170: UserWarning: Received a view of an AnnData. Making a copy.\n",
      "  view_to_actual(adata)\n"
     ]
    },
    {
     "name": "stdout",
     "output_type": "stream",
     "text": [
      "training anew\n",
      "caching training data\n"
     ]
    },
    {
     "name": "stderr",
     "output_type": "stream",
     "text": [
      "100%|██████████████████████████████████████| 1000/1000 [00:05<00:00, 192.89it/s]\n"
     ]
    },
    {
     "name": "stdout",
     "output_type": "stream",
     "text": [
      "JSD: mean=0.20556381344795227, quartiles=[0.     0.1163 0.2077 0.2839 0.4945]\n",
      "RMSE: all=0.0716240182518959, quartiles=[0.     0.0447 0.0632 0.0894 0.1789]\n",
      "RMSE: all=0.0716240182518959, quartiles=[0.     0.0447 0.0632 0.0894 0.1789]\n",
      "0.018092s\tinit\n",
      "5.745702s\tload\n",
      "0.731897s\thvg\n",
      "2.923323s\tnnls\n"
     ]
    },
    {
     "name": "stderr",
     "output_type": "stream",
     "text": [
      "/Users/potti/Documents/HPI/thesis/spatialtranscriptomics/st_data_gen/.venv/lib/python3.9/site-packages/scanpy/preprocessing/_normalization.py:170: UserWarning: Received a view of an AnnData. Making a copy.\n",
      "  view_to_actual(adata)\n"
     ]
    },
    {
     "name": "stdout",
     "output_type": "stream",
     "text": [
      "training anew\n",
      "caching training data\n"
     ]
    },
    {
     "name": "stderr",
     "output_type": "stream",
     "text": [
      "100%|██████████████████████████████████████| 1000/1000 [00:04<00:00, 205.35it/s]\n"
     ]
    },
    {
     "name": "stdout",
     "output_type": "stream",
     "text": [
      "JSD: mean=0.32715699076652527, quartiles=[0.     0.2131 0.3247 0.4155 0.8326]\n",
      "RMSE: all=0.12375929951667786, quartiles=[0.     0.0426 0.0853 0.1206 0.4264]\n",
      "RMSE: all=0.12375929951667786, quartiles=[0.     0.0426 0.0853 0.1206 0.4264]\n",
      "0.021612s\tinit\n",
      "5.846010s\tload\n",
      "0.693963s\thvg\n",
      "2.877281s\tnnls\n"
     ]
    },
    {
     "name": "stderr",
     "output_type": "stream",
     "text": [
      "/Users/potti/Documents/HPI/thesis/spatialtranscriptomics/st_data_gen/.venv/lib/python3.9/site-packages/scanpy/preprocessing/_normalization.py:170: UserWarning: Received a view of an AnnData. Making a copy.\n",
      "  view_to_actual(adata)\n"
     ]
    },
    {
     "name": "stdout",
     "output_type": "stream",
     "text": [
      "training anew\n",
      "caching training data\n"
     ]
    },
    {
     "name": "stderr",
     "output_type": "stream",
     "text": [
      "100%|██████████████████████████████████████| 1000/1000 [00:04<00:00, 201.60it/s]\n"
     ]
    },
    {
     "name": "stdout",
     "output_type": "stream",
     "text": [
      "JSD: mean=0.337077260017395, quartiles=[0.     0.2077 0.3247 0.4544 0.8326]\n",
      "RMSE: all=0.13393349945545197, quartiles=[0.     0.0559 0.0953 0.143  0.4068]\n",
      "RMSE: all=0.13393349945545197, quartiles=[0.     0.0559 0.0953 0.143  0.4068]\n",
      "0.018675s\tinit\n",
      "5.831789s\tload\n",
      "0.702422s\thvg\n",
      "2.861742s\tnnls\n"
     ]
    },
    {
     "name": "stderr",
     "output_type": "stream",
     "text": [
      "/Users/potti/Documents/HPI/thesis/spatialtranscriptomics/st_data_gen/.venv/lib/python3.9/site-packages/scanpy/preprocessing/_normalization.py:170: UserWarning: Received a view of an AnnData. Making a copy.\n",
      "  view_to_actual(adata)\n"
     ]
    },
    {
     "name": "stdout",
     "output_type": "stream",
     "text": [
      "training anew\n",
      "caching training data\n"
     ]
    },
    {
     "name": "stderr",
     "output_type": "stream",
     "text": [
      "100%|██████████████████████████████████████| 1000/1000 [00:04<00:00, 212.71it/s]\n"
     ]
    },
    {
     "name": "stdout",
     "output_type": "stream",
     "text": [
      "JSD: mean=0.3236944377422333, quartiles=[0.     0.197  0.3195 0.4184 0.8326]\n",
      "RMSE: all=0.12081541121006012, quartiles=[0.     0.0426 0.0853 0.1206 0.4264]\n",
      "RMSE: all=0.12081541121006012, quartiles=[0.     0.0426 0.0853 0.1206 0.4264]\n",
      "0.018113s\tinit\n",
      "5.520451s\tload\n",
      "0.739630s\thvg\n",
      "2.911288s\tnnls\n"
     ]
    },
    {
     "name": "stderr",
     "output_type": "stream",
     "text": [
      "/Users/potti/Documents/HPI/thesis/spatialtranscriptomics/st_data_gen/.venv/lib/python3.9/site-packages/scanpy/preprocessing/_normalization.py:170: UserWarning: Received a view of an AnnData. Making a copy.\n",
      "  view_to_actual(adata)\n"
     ]
    },
    {
     "name": "stdout",
     "output_type": "stream",
     "text": [
      "training anew\n",
      "caching training data\n"
     ]
    },
    {
     "name": "stderr",
     "output_type": "stream",
     "text": [
      "100%|██████████████████████████████████████| 1000/1000 [00:04<00:00, 212.17it/s]\n"
     ]
    },
    {
     "name": "stdout",
     "output_type": "stream",
     "text": [
      "JSD: mean=0.2167540192604065, quartiles=[0.     0.1449 0.221  0.2938 0.5353]\n",
      "RMSE: all=0.07404052466154099, quartiles=[0.     0.0447 0.0632 0.0894 0.228 ]\n",
      "RMSE: all=0.07404052466154099, quartiles=[0.     0.0447 0.0632 0.0894 0.228 ]\n",
      "0.016791s\tinit\n",
      "5.544146s\tload\n",
      "0.760012s\thvg\n",
      "3.091749s\tnnls\n"
     ]
    },
    {
     "name": "stderr",
     "output_type": "stream",
     "text": [
      "/Users/potti/Documents/HPI/thesis/spatialtranscriptomics/st_data_gen/.venv/lib/python3.9/site-packages/scanpy/preprocessing/_normalization.py:170: UserWarning: Received a view of an AnnData. Making a copy.\n",
      "  view_to_actual(adata)\n"
     ]
    },
    {
     "name": "stdout",
     "output_type": "stream",
     "text": [
      "training anew\n",
      "caching training data\n"
     ]
    },
    {
     "name": "stderr",
     "output_type": "stream",
     "text": [
      "100%|██████████████████████████████████████| 1000/1000 [00:04<00:00, 206.16it/s]\n"
     ]
    },
    {
     "name": "stdout",
     "output_type": "stream",
     "text": [
      "JSD: mean=0.20911355316638947, quartiles=[0.     0.1163 0.2077 0.2824 0.563 ]\n",
      "RMSE: all=0.07313001900911331, quartiles=[0.     0.0447 0.0632 0.0894 0.2366]\n",
      "RMSE: all=0.07313001900911331, quartiles=[0.     0.0447 0.0632 0.0894 0.2366]\n",
      "0.020636s\tinit\n",
      "5.810063s\tload\n",
      "0.745322s\thvg\n",
      "3.041497s\tnnls\n"
     ]
    },
    {
     "name": "stderr",
     "output_type": "stream",
     "text": [
      "/Users/potti/Documents/HPI/thesis/spatialtranscriptomics/st_data_gen/.venv/lib/python3.9/site-packages/scanpy/preprocessing/_normalization.py:170: UserWarning: Received a view of an AnnData. Making a copy.\n",
      "  view_to_actual(adata)\n"
     ]
    },
    {
     "name": "stdout",
     "output_type": "stream",
     "text": [
      "training anew\n",
      "caching training data\n"
     ]
    },
    {
     "name": "stderr",
     "output_type": "stream",
     "text": [
      "100%|██████████████████████████████████████| 1000/1000 [00:04<00:00, 204.74it/s]\n"
     ]
    },
    {
     "name": "stdout",
     "output_type": "stream",
     "text": [
      "JSD: mean=0.21825216710567474, quartiles=[0.     0.1554 0.227  0.2938 0.5809]\n",
      "RMSE: all=0.07569676637649536, quartiles=[0.     0.0447 0.0632 0.0894 0.2324]\n",
      "RMSE: all=0.07569676637649536, quartiles=[0.     0.0447 0.0632 0.0894 0.2324]\n",
      "0.017844s\tinit\n",
      "5.628734s\tload\n",
      "0.679979s\thvg\n",
      "2.860392s\tnnls\n"
     ]
    },
    {
     "name": "stderr",
     "output_type": "stream",
     "text": [
      "/Users/potti/Documents/HPI/thesis/spatialtranscriptomics/st_data_gen/.venv/lib/python3.9/site-packages/scanpy/preprocessing/_normalization.py:170: UserWarning: Received a view of an AnnData. Making a copy.\n",
      "  view_to_actual(adata)\n"
     ]
    },
    {
     "name": "stdout",
     "output_type": "stream",
     "text": [
      "training anew\n",
      "caching training data\n"
     ]
    },
    {
     "name": "stderr",
     "output_type": "stream",
     "text": [
      "100%|██████████████████████████████████████| 1000/1000 [00:05<00:00, 195.58it/s]\n"
     ]
    },
    {
     "name": "stdout",
     "output_type": "stream",
     "text": [
      "JSD: mean=0.34063196182250977, quartiles=[0.     0.1901 0.316  0.4579 0.8326]\n",
      "RMSE: all=0.14268210530281067, quartiles=[0.     0.0426 0.0853 0.1348 0.4068]\n",
      "RMSE: all=0.14268210530281067, quartiles=[0.     0.0426 0.0853 0.1348 0.4068]\n",
      "0.018736s\tinit\n",
      "5.981738s\tload\n",
      "0.690148s\thvg\n",
      "2.838400s\tnnls\n"
     ]
    },
    {
     "name": "stderr",
     "output_type": "stream",
     "text": [
      "/Users/potti/Documents/HPI/thesis/spatialtranscriptomics/st_data_gen/.venv/lib/python3.9/site-packages/scanpy/preprocessing/_normalization.py:170: UserWarning: Received a view of an AnnData. Making a copy.\n",
      "  view_to_actual(adata)\n"
     ]
    },
    {
     "name": "stdout",
     "output_type": "stream",
     "text": [
      "training anew\n",
      "caching training data\n"
     ]
    },
    {
     "name": "stderr",
     "output_type": "stream",
     "text": [
      "100%|██████████████████████████████████████| 1000/1000 [00:04<00:00, 203.04it/s]\n"
     ]
    },
    {
     "name": "stdout",
     "output_type": "stream",
     "text": [
      "JSD: mean=0.35945743322372437, quartiles=[0.     0.1922 0.3249 0.4919 0.8326]\n",
      "RMSE: all=0.15369391441345215, quartiles=[0.     0.0426 0.0853 0.1477 0.4264]\n",
      "RMSE: all=0.15369391441345215, quartiles=[0.     0.0426 0.0853 0.1477 0.4264]\n",
      "0.019696s\tinit\n",
      "5.702348s\tload\n",
      "0.667966s\thvg\n",
      "2.965289s\tnnls\n"
     ]
    },
    {
     "name": "stderr",
     "output_type": "stream",
     "text": [
      "/Users/potti/Documents/HPI/thesis/spatialtranscriptomics/st_data_gen/.venv/lib/python3.9/site-packages/scanpy/preprocessing/_normalization.py:170: UserWarning: Received a view of an AnnData. Making a copy.\n",
      "  view_to_actual(adata)\n"
     ]
    },
    {
     "name": "stdout",
     "output_type": "stream",
     "text": [
      "training anew\n",
      "caching training data\n"
     ]
    },
    {
     "name": "stderr",
     "output_type": "stream",
     "text": [
      "100%|██████████████████████████████████████| 1000/1000 [00:05<00:00, 197.87it/s]\n"
     ]
    },
    {
     "name": "stdout",
     "output_type": "stream",
     "text": [
      "JSD: mean=0.34076711535453796, quartiles=[0.     0.1906 0.3197 0.4695 0.8326]\n",
      "RMSE: all=0.13847218453884125, quartiles=[0.     0.0426 0.0853 0.1279 0.4068]\n",
      "RMSE: all=0.13847218453884125, quartiles=[0.     0.0426 0.0853 0.1279 0.4068]\n",
      "0.007866s\tinit\n",
      "2.183844s\tload\n",
      "0.822960s\thvg\n",
      "1.216639s\tnnls\n"
     ]
    },
    {
     "name": "stderr",
     "output_type": "stream",
     "text": [
      "/Users/potti/Documents/HPI/thesis/spatialtranscriptomics/st_data_gen/.venv/lib/python3.9/site-packages/scanpy/preprocessing/_normalization.py:170: UserWarning: Received a view of an AnnData. Making a copy.\n",
      "  view_to_actual(adata)\n"
     ]
    },
    {
     "name": "stdout",
     "output_type": "stream",
     "text": [
      "training anew\n",
      "caching training data\n"
     ]
    },
    {
     "name": "stderr",
     "output_type": "stream",
     "text": [
      "100%|██████████████████████████████████████| 1000/1000 [00:04<00:00, 220.51it/s]\n"
     ]
    },
    {
     "name": "stdout",
     "output_type": "stream",
     "text": [
      "JSD: mean=0.359195351600647, quartiles=[0.     0.192  0.3247 0.4945 0.8326]\n",
      "RMSE: all=0.169002965092659, quartiles=[0.     0.0447 0.0894 0.1342 0.4472]\n",
      "RMSE: all=0.169002965092659, quartiles=[0.     0.0447 0.0894 0.1342 0.4472]\n",
      "0.008476s\tinit\n",
      "2.363982s\tload\n",
      "0.700282s\thvg\n",
      "1.119743s\tnnls\n"
     ]
    },
    {
     "name": "stderr",
     "output_type": "stream",
     "text": [
      "/Users/potti/Documents/HPI/thesis/spatialtranscriptomics/st_data_gen/.venv/lib/python3.9/site-packages/scanpy/preprocessing/_normalization.py:170: UserWarning: Received a view of an AnnData. Making a copy.\n",
      "  view_to_actual(adata)\n"
     ]
    },
    {
     "name": "stdout",
     "output_type": "stream",
     "text": [
      "training anew\n",
      "caching training data\n"
     ]
    },
    {
     "name": "stderr",
     "output_type": "stream",
     "text": [
      "100%|██████████████████████████████████████| 1000/1000 [00:04<00:00, 224.53it/s]\n"
     ]
    },
    {
     "name": "stdout",
     "output_type": "stream",
     "text": [
      "JSD: mean=0.20025253295898438, quartiles=[0.     0.1021 0.1992 0.282  0.513 ]\n",
      "RMSE: all=0.07818248122930527, quartiles=[0.     0.05   0.05   0.0866 0.2398]\n",
      "RMSE: all=0.07818248122930527, quartiles=[0.     0.05   0.05   0.0866 0.2398]\n",
      "0.007721s\tinit\n",
      "2.288336s\tload\n",
      "0.731911s\thvg\n",
      "1.194484s\tnnls\n"
     ]
    },
    {
     "name": "stderr",
     "output_type": "stream",
     "text": [
      "/Users/potti/Documents/HPI/thesis/spatialtranscriptomics/st_data_gen/.venv/lib/python3.9/site-packages/scanpy/preprocessing/_normalization.py:170: UserWarning: Received a view of an AnnData. Making a copy.\n",
      "  view_to_actual(adata)\n"
     ]
    },
    {
     "name": "stdout",
     "output_type": "stream",
     "text": [
      "training anew\n",
      "caching training data\n"
     ]
    },
    {
     "name": "stderr",
     "output_type": "stream",
     "text": [
      "100%|██████████████████████████████████████| 1000/1000 [00:04<00:00, 217.50it/s]\n"
     ]
    },
    {
     "name": "stdout",
     "output_type": "stream",
     "text": [
      "JSD: mean=0.38225340843200684, quartiles=[0.     0.1913 0.328  0.538  0.8326]\n",
      "RMSE: all=0.18011662364006042, quartiles=[0.     0.0447 0.0894 0.1549 0.4472]\n",
      "RMSE: all=0.18011662364006042, quartiles=[0.     0.0447 0.0894 0.1549 0.4472]\n",
      "0.008704s\tinit\n",
      "2.272708s\tload\n",
      "0.646675s\thvg\n",
      "1.162100s\tnnls\n"
     ]
    },
    {
     "name": "stderr",
     "output_type": "stream",
     "text": [
      "/Users/potti/Documents/HPI/thesis/spatialtranscriptomics/st_data_gen/.venv/lib/python3.9/site-packages/scanpy/preprocessing/_normalization.py:170: UserWarning: Received a view of an AnnData. Making a copy.\n",
      "  view_to_actual(adata)\n"
     ]
    },
    {
     "name": "stdout",
     "output_type": "stream",
     "text": [
      "training anew\n",
      "caching training data\n"
     ]
    },
    {
     "name": "stderr",
     "output_type": "stream",
     "text": [
      "100%|██████████████████████████████████████| 1000/1000 [00:04<00:00, 226.95it/s]\n"
     ]
    },
    {
     "name": "stdout",
     "output_type": "stream",
     "text": [
      "JSD: mean=0.43218860030174255, quartiles=[0.     0.2736 0.4183 0.5809 0.8326]\n",
      "RMSE: all=0.17724661529064178, quartiles=[0.     0.0739 0.1128 0.1821 0.4264]\n",
      "RMSE: all=0.17724661529064178, quartiles=[0.     0.0739 0.1128 0.1821 0.4264]\n",
      "0.006954s\tinit\n",
      "2.200402s\tload\n",
      "0.628645s\thvg\n",
      "1.180507s\tnnls\n"
     ]
    },
    {
     "name": "stderr",
     "output_type": "stream",
     "text": [
      "/Users/potti/Documents/HPI/thesis/spatialtranscriptomics/st_data_gen/.venv/lib/python3.9/site-packages/scanpy/preprocessing/_normalization.py:170: UserWarning: Received a view of an AnnData. Making a copy.\n",
      "  view_to_actual(adata)\n"
     ]
    },
    {
     "name": "stdout",
     "output_type": "stream",
     "text": [
      "training anew\n",
      "caching training data\n"
     ]
    },
    {
     "name": "stderr",
     "output_type": "stream",
     "text": [
      "100%|██████████████████████████████████████| 1000/1000 [00:04<00:00, 216.28it/s]\n"
     ]
    },
    {
     "name": "stdout",
     "output_type": "stream",
     "text": [
      "JSD: mean=0.33452263474464417, quartiles=[0.     0.2077 0.3247 0.4506 0.8326]\n",
      "RMSE: all=0.14853356778621674, quartiles=[0.     0.0471 0.1054 0.1563 0.4497]\n",
      "RMSE: all=0.14853356778621674, quartiles=[0.     0.0471 0.1054 0.1563 0.4497]\n",
      "0.007921s\tinit\n",
      "2.314561s\tload\n",
      "0.642968s\thvg\n",
      "1.157346s\tnnls\n"
     ]
    },
    {
     "name": "stderr",
     "output_type": "stream",
     "text": [
      "/Users/potti/Documents/HPI/thesis/spatialtranscriptomics/st_data_gen/.venv/lib/python3.9/site-packages/scanpy/preprocessing/_normalization.py:170: UserWarning: Received a view of an AnnData. Making a copy.\n",
      "  view_to_actual(adata)\n"
     ]
    },
    {
     "name": "stdout",
     "output_type": "stream",
     "text": [
      "training anew\n",
      "caching training data\n"
     ]
    },
    {
     "name": "stderr",
     "output_type": "stream",
     "text": [
      "100%|██████████████████████████████████████| 1000/1000 [00:04<00:00, 213.04it/s]\n"
     ]
    },
    {
     "name": "stdout",
     "output_type": "stream",
     "text": [
      "JSD: mean=0.4457470178604126, quartiles=[0.     0.2736 0.4264 0.6227 0.8326]\n",
      "RMSE: all=0.18381313979625702, quartiles=[0.     0.0739 0.1206 0.1954 0.4264]\n",
      "RMSE: all=0.18381313979625702, quartiles=[0.     0.0739 0.1206 0.1954 0.4264]\n",
      "0.009355s\tinit\n",
      "2.230105s\tload\n",
      "0.692450s\thvg\n",
      "1.260945s\tnnls\n"
     ]
    },
    {
     "name": "stderr",
     "output_type": "stream",
     "text": [
      "/Users/potti/Documents/HPI/thesis/spatialtranscriptomics/st_data_gen/.venv/lib/python3.9/site-packages/scanpy/preprocessing/_normalization.py:170: UserWarning: Received a view of an AnnData. Making a copy.\n",
      "  view_to_actual(adata)\n"
     ]
    },
    {
     "name": "stdout",
     "output_type": "stream",
     "text": [
      "training anew\n",
      "caching training data\n"
     ]
    },
    {
     "name": "stderr",
     "output_type": "stream",
     "text": [
      "100%|██████████████████████████████████████| 1000/1000 [00:04<00:00, 219.82it/s]\n"
     ]
    },
    {
     "name": "stdout",
     "output_type": "stream",
     "text": [
      "JSD: mean=0.35749274492263794, quartiles=[0.     0.1897 0.3247 0.4981 0.8326]\n",
      "RMSE: all=0.175863578915596, quartiles=[0.     0.0447 0.0775 0.1414 0.4472]\n",
      "RMSE: all=0.175863578915596, quartiles=[0.     0.0447 0.0775 0.1414 0.4472]\n",
      "0.007563s\tinit\n",
      "2.123565s\tload\n",
      "0.673074s\thvg\n",
      "1.174517s\tnnls\n"
     ]
    },
    {
     "name": "stderr",
     "output_type": "stream",
     "text": [
      "/Users/potti/Documents/HPI/thesis/spatialtranscriptomics/st_data_gen/.venv/lib/python3.9/site-packages/scanpy/preprocessing/_normalization.py:170: UserWarning: Received a view of an AnnData. Making a copy.\n",
      "  view_to_actual(adata)\n"
     ]
    },
    {
     "name": "stdout",
     "output_type": "stream",
     "text": [
      "training anew\n",
      "caching training data\n"
     ]
    },
    {
     "name": "stderr",
     "output_type": "stream",
     "text": [
      "100%|██████████████████████████████████████| 1000/1000 [00:04<00:00, 218.26it/s]\n"
     ]
    },
    {
     "name": "stdout",
     "output_type": "stream",
     "text": [
      "JSD: mean=0.1997292935848236, quartiles=[0.     0.1056 0.1992 0.2763 0.5238]\n",
      "RMSE: all=0.08017168939113617, quartiles=[0.     0.05   0.05   0.0866 0.2646]\n",
      "RMSE: all=0.08017168939113617, quartiles=[0.     0.05   0.05   0.0866 0.2646]\n",
      "0.008012s\tinit\n",
      "2.275759s\tload\n",
      "0.722343s\thvg\n",
      "1.235234s\tnnls\n"
     ]
    },
    {
     "name": "stderr",
     "output_type": "stream",
     "text": [
      "/Users/potti/Documents/HPI/thesis/spatialtranscriptomics/st_data_gen/.venv/lib/python3.9/site-packages/scanpy/preprocessing/_normalization.py:170: UserWarning: Received a view of an AnnData. Making a copy.\n",
      "  view_to_actual(adata)\n"
     ]
    },
    {
     "name": "stdout",
     "output_type": "stream",
     "text": [
      "training anew\n",
      "caching training data\n"
     ]
    },
    {
     "name": "stderr",
     "output_type": "stream",
     "text": [
      "100%|██████████████████████████████████████| 1000/1000 [00:04<00:00, 222.43it/s]\n"
     ]
    },
    {
     "name": "stdout",
     "output_type": "stream",
     "text": [
      "JSD: mean=0.38957616686820984, quartiles=[0.     0.1956 0.3389 0.5579 0.8326]\n",
      "RMSE: all=0.18782438337802887, quartiles=[0.     0.0447 0.0894 0.1673 0.4472]\n",
      "RMSE: all=0.18782438337802887, quartiles=[0.     0.0447 0.0894 0.1673 0.4472]\n",
      "0.009801s\tinit\n",
      "2.181552s\tload\n",
      "0.620631s\thvg\n",
      "1.205947s\tnnls\n"
     ]
    },
    {
     "name": "stderr",
     "output_type": "stream",
     "text": [
      "/Users/potti/Documents/HPI/thesis/spatialtranscriptomics/st_data_gen/.venv/lib/python3.9/site-packages/scanpy/preprocessing/_normalization.py:170: UserWarning: Received a view of an AnnData. Making a copy.\n",
      "  view_to_actual(adata)\n"
     ]
    },
    {
     "name": "stdout",
     "output_type": "stream",
     "text": [
      "training anew\n",
      "caching training data\n"
     ]
    },
    {
     "name": "stderr",
     "output_type": "stream",
     "text": [
      "100%|██████████████████████████████████████| 1000/1000 [00:04<00:00, 216.70it/s]\n"
     ]
    },
    {
     "name": "stdout",
     "output_type": "stream",
     "text": [
      "JSD: mean=0.4626738727092743, quartiles=[0.     0.2736 0.456  0.6585 0.8326]\n",
      "RMSE: all=0.2053954005241394, quartiles=[0.     0.0739 0.1279 0.2594 0.4264]\n",
      "RMSE: all=0.2053954005241394, quartiles=[0.     0.0739 0.1279 0.2594 0.4264]\n",
      "0.007987s\tinit\n",
      "2.248178s\tload\n",
      "0.619691s\thvg\n",
      "1.108928s\tnnls\n"
     ]
    },
    {
     "name": "stderr",
     "output_type": "stream",
     "text": [
      "/Users/potti/Documents/HPI/thesis/spatialtranscriptomics/st_data_gen/.venv/lib/python3.9/site-packages/scanpy/preprocessing/_normalization.py:170: UserWarning: Received a view of an AnnData. Making a copy.\n",
      "  view_to_actual(adata)\n"
     ]
    },
    {
     "name": "stdout",
     "output_type": "stream",
     "text": [
      "training anew\n",
      "caching training data\n"
     ]
    },
    {
     "name": "stderr",
     "output_type": "stream",
     "text": [
      "100%|██████████████████████████████████████| 1000/1000 [00:04<00:00, 237.41it/s]\n"
     ]
    },
    {
     "name": "stdout",
     "output_type": "stream",
     "text": [
      "JSD: mean=0.35515904426574707, quartiles=[0.     0.1906 0.3247 0.4883 0.8326]\n",
      "RMSE: all=0.1695287525653839, quartiles=[0.     0.0471 0.0943 0.1633 0.4714]\n",
      "RMSE: all=0.1695287525653839, quartiles=[0.     0.0471 0.0943 0.1633 0.4714]\n",
      "0.007044s\tinit\n",
      "2.110123s\tload\n",
      "0.611063s\thvg\n",
      "1.105467s\tnnls\n"
     ]
    },
    {
     "name": "stderr",
     "output_type": "stream",
     "text": [
      "/Users/potti/Documents/HPI/thesis/spatialtranscriptomics/st_data_gen/.venv/lib/python3.9/site-packages/scanpy/preprocessing/_normalization.py:170: UserWarning: Received a view of an AnnData. Making a copy.\n",
      "  view_to_actual(adata)\n"
     ]
    },
    {
     "name": "stdout",
     "output_type": "stream",
     "text": [
      "training anew\n",
      "caching training data\n"
     ]
    },
    {
     "name": "stderr",
     "output_type": "stream",
     "text": [
      "100%|██████████████████████████████████████| 1000/1000 [00:04<00:00, 234.26it/s]\n"
     ]
    },
    {
     "name": "stdout",
     "output_type": "stream",
     "text": [
      "JSD: mean=0.48832106590270996, quartiles=[0.     0.2736 0.4743 0.7422 0.8326]\n",
      "RMSE: all=0.215119406580925, quartiles=[0.     0.0739 0.1348 0.2804 0.4264]\n",
      "RMSE: all=0.215119406580925, quartiles=[0.     0.0739 0.1348 0.2804 0.4264]\n",
      "0.015275s\tinit\n",
      "5.472198s\tload\n",
      "0.795856s\thvg\n",
      "2.729821s\tnnls\n"
     ]
    },
    {
     "name": "stderr",
     "output_type": "stream",
     "text": [
      "/Users/potti/Documents/HPI/thesis/spatialtranscriptomics/st_data_gen/.venv/lib/python3.9/site-packages/scanpy/preprocessing/_normalization.py:170: UserWarning: Received a view of an AnnData. Making a copy.\n",
      "  view_to_actual(adata)\n"
     ]
    },
    {
     "name": "stdout",
     "output_type": "stream",
     "text": [
      "training anew\n",
      "caching training data\n"
     ]
    },
    {
     "name": "stderr",
     "output_type": "stream",
     "text": [
      "100%|██████████████████████████████████████| 1000/1000 [00:04<00:00, 221.65it/s]\n"
     ]
    },
    {
     "name": "stdout",
     "output_type": "stream",
     "text": [
      "JSD: mean=0.26945391297340393, quartiles=[0.     0.1897 0.2736 0.347  0.8326]\n",
      "RMSE: all=0.10953538864850998, quartiles=[0.     0.0447 0.0775 0.1    0.3924]\n",
      "RMSE: all=0.10953538864850998, quartiles=[0.     0.0447 0.0775 0.1    0.3924]\n",
      "0.017298s\tinit\n",
      "5.507769s\tload\n",
      "0.774360s\thvg\n",
      "2.766359s\tnnls\n"
     ]
    },
    {
     "name": "stderr",
     "output_type": "stream",
     "text": [
      "/Users/potti/Documents/HPI/thesis/spatialtranscriptomics/st_data_gen/.venv/lib/python3.9/site-packages/scanpy/preprocessing/_normalization.py:170: UserWarning: Received a view of an AnnData. Making a copy.\n",
      "  view_to_actual(adata)\n"
     ]
    },
    {
     "name": "stdout",
     "output_type": "stream",
     "text": [
      "training anew\n",
      "caching training data\n"
     ]
    },
    {
     "name": "stderr",
     "output_type": "stream",
     "text": [
      "100%|██████████████████████████████████████| 1000/1000 [00:04<00:00, 215.62it/s]\n"
     ]
    },
    {
     "name": "stdout",
     "output_type": "stream",
     "text": [
      "JSD: mean=0.2792816162109375, quartiles=[0.     0.1897 0.2693 0.3723 0.8326]\n",
      "RMSE: all=0.1153169497847557, quartiles=[0.     0.0447 0.0775 0.1095 0.4472]\n",
      "RMSE: all=0.1153169497847557, quartiles=[0.     0.0447 0.0775 0.1095 0.4472]\n",
      "0.016016s\tinit\n",
      "5.472109s\tload\n",
      "0.822392s\thvg\n",
      "2.744277s\tnnls\n"
     ]
    },
    {
     "name": "stderr",
     "output_type": "stream",
     "text": [
      "/Users/potti/Documents/HPI/thesis/spatialtranscriptomics/st_data_gen/.venv/lib/python3.9/site-packages/scanpy/preprocessing/_normalization.py:170: UserWarning: Received a view of an AnnData. Making a copy.\n",
      "  view_to_actual(adata)\n"
     ]
    },
    {
     "name": "stdout",
     "output_type": "stream",
     "text": [
      "training anew\n",
      "caching training data\n"
     ]
    },
    {
     "name": "stderr",
     "output_type": "stream",
     "text": [
      "100%|██████████████████████████████████████| 1000/1000 [00:04<00:00, 212.63it/s]\n"
     ]
    },
    {
     "name": "stdout",
     "output_type": "stream",
     "text": [
      "JSD: mean=0.204870343208313, quartiles=[0.     0.1147 0.2077 0.2832 0.4945]\n",
      "RMSE: all=0.07540999352931976, quartiles=[0.     0.0471 0.0667 0.0943 0.1886]\n",
      "RMSE: all=0.07540999352931976, quartiles=[0.     0.0471 0.0667 0.0943 0.1886]\n",
      "0.017369s\tinit\n",
      "5.377233s\tload\n",
      "0.667956s\thvg\n",
      "2.550091s\tnnls\n"
     ]
    },
    {
     "name": "stderr",
     "output_type": "stream",
     "text": [
      "/Users/potti/Documents/HPI/thesis/spatialtranscriptomics/st_data_gen/.venv/lib/python3.9/site-packages/scanpy/preprocessing/_normalization.py:170: UserWarning: Received a view of an AnnData. Making a copy.\n",
      "  view_to_actual(adata)\n"
     ]
    },
    {
     "name": "stdout",
     "output_type": "stream",
     "text": [
      "training anew\n",
      "caching training data\n"
     ]
    },
    {
     "name": "stderr",
     "output_type": "stream",
     "text": [
      "100%|██████████████████████████████████████| 1000/1000 [00:04<00:00, 215.72it/s]\n"
     ]
    },
    {
     "name": "stdout",
     "output_type": "stream",
     "text": [
      "JSD: mean=0.37404754757881165, quartiles=[0.     0.2633 0.3476 0.4868 0.8326]\n",
      "RMSE: all=0.14475056529045105, quartiles=[0.     0.0603 0.0853 0.1537 0.4264]\n",
      "RMSE: all=0.14475056529045105, quartiles=[0.     0.0603 0.0853 0.1537 0.4264]\n",
      "0.017246s\tinit\n",
      "5.516120s\tload\n",
      "0.677083s\thvg\n",
      "2.538176s\tnnls\n"
     ]
    },
    {
     "name": "stderr",
     "output_type": "stream",
     "text": [
      "/Users/potti/Documents/HPI/thesis/spatialtranscriptomics/st_data_gen/.venv/lib/python3.9/site-packages/scanpy/preprocessing/_normalization.py:170: UserWarning: Received a view of an AnnData. Making a copy.\n",
      "  view_to_actual(adata)\n"
     ]
    },
    {
     "name": "stdout",
     "output_type": "stream",
     "text": [
      "training anew\n",
      "caching training data\n"
     ]
    },
    {
     "name": "stderr",
     "output_type": "stream",
     "text": [
      "100%|██████████████████████████████████████| 1000/1000 [00:04<00:00, 215.95it/s]\n"
     ]
    },
    {
     "name": "stdout",
     "output_type": "stream",
     "text": [
      "JSD: mean=0.3942961096763611, quartiles=[0.     0.2645 0.3834 0.5234 0.8326]\n",
      "RMSE: all=0.15995453298091888, quartiles=[0.     0.0739 0.1128 0.1758 0.4264]\n",
      "RMSE: all=0.15995453298091888, quartiles=[0.     0.0739 0.1128 0.1758 0.4264]\n",
      "0.016356s\tinit\n",
      "5.329224s\tload\n",
      "0.644985s\thvg\n",
      "2.479682s\tnnls\n"
     ]
    },
    {
     "name": "stderr",
     "output_type": "stream",
     "text": [
      "/Users/potti/Documents/HPI/thesis/spatialtranscriptomics/st_data_gen/.venv/lib/python3.9/site-packages/scanpy/preprocessing/_normalization.py:170: UserWarning: Received a view of an AnnData. Making a copy.\n",
      "  view_to_actual(adata)\n"
     ]
    },
    {
     "name": "stdout",
     "output_type": "stream",
     "text": [
      "training anew\n",
      "caching training data\n"
     ]
    },
    {
     "name": "stderr",
     "output_type": "stream",
     "text": [
      "100%|██████████████████████████████████████| 1000/1000 [00:04<00:00, 226.08it/s]\n"
     ]
    },
    {
     "name": "stdout",
     "output_type": "stream",
     "text": [
      "JSD: mean=0.32251957058906555, quartiles=[0.     0.197  0.316  0.4183 0.8326]\n",
      "RMSE: all=0.12753038108348846, quartiles=[0.     0.0447 0.0894 0.1265 0.4472]\n",
      "RMSE: all=0.12753038108348846, quartiles=[0.     0.0447 0.0894 0.1265 0.4472]\n",
      "0.016680s\tinit\n",
      "5.261236s\tload\n",
      "0.768936s\thvg\n",
      "2.591185s\tnnls\n"
     ]
    },
    {
     "name": "stderr",
     "output_type": "stream",
     "text": [
      "/Users/potti/Documents/HPI/thesis/spatialtranscriptomics/st_data_gen/.venv/lib/python3.9/site-packages/scanpy/preprocessing/_normalization.py:170: UserWarning: Received a view of an AnnData. Making a copy.\n",
      "  view_to_actual(adata)\n"
     ]
    },
    {
     "name": "stdout",
     "output_type": "stream",
     "text": [
      "training anew\n",
      "caching training data\n"
     ]
    },
    {
     "name": "stderr",
     "output_type": "stream",
     "text": [
      "100%|██████████████████████████████████████| 1000/1000 [00:04<00:00, 228.53it/s]\n"
     ]
    },
    {
     "name": "stdout",
     "output_type": "stream",
     "text": [
      "JSD: mean=0.2844069302082062, quartiles=[0.     0.1897 0.2736 0.3723 0.8326]\n",
      "RMSE: all=0.11140017956495285, quartiles=[0.     0.0447 0.0775 0.1095 0.4099]\n",
      "RMSE: all=0.11140017956495285, quartiles=[0.     0.0447 0.0775 0.1095 0.4099]\n",
      "0.016618s\tinit\n",
      "5.480080s\tload\n",
      "0.710264s\thvg\n",
      "2.580842s\tnnls\n"
     ]
    },
    {
     "name": "stderr",
     "output_type": "stream",
     "text": [
      "/Users/potti/Documents/HPI/thesis/spatialtranscriptomics/st_data_gen/.venv/lib/python3.9/site-packages/scanpy/preprocessing/_normalization.py:170: UserWarning: Received a view of an AnnData. Making a copy.\n",
      "  view_to_actual(adata)\n"
     ]
    },
    {
     "name": "stdout",
     "output_type": "stream",
     "text": [
      "training anew\n",
      "caching training data\n"
     ]
    },
    {
     "name": "stderr",
     "output_type": "stream",
     "text": [
      "100%|██████████████████████████████████████| 1000/1000 [00:04<00:00, 221.75it/s]\n"
     ]
    },
    {
     "name": "stdout",
     "output_type": "stream",
     "text": [
      "JSD: mean=0.2876277565956116, quartiles=[0.     0.1897 0.2736 0.3738 0.8326]\n",
      "RMSE: all=0.11608617752790451, quartiles=[0.     0.0447 0.0775 0.1095 0.4472]\n",
      "RMSE: all=0.11608617752790451, quartiles=[0.     0.0447 0.0775 0.1095 0.4472]\n",
      "0.016938s\tinit\n",
      "5.521003s\tload\n",
      "0.729338s\thvg\n",
      "2.706357s\tnnls\n"
     ]
    },
    {
     "name": "stderr",
     "output_type": "stream",
     "text": [
      "/Users/potti/Documents/HPI/thesis/spatialtranscriptomics/st_data_gen/.venv/lib/python3.9/site-packages/scanpy/preprocessing/_normalization.py:170: UserWarning: Received a view of an AnnData. Making a copy.\n",
      "  view_to_actual(adata)\n"
     ]
    },
    {
     "name": "stdout",
     "output_type": "stream",
     "text": [
      "training anew\n",
      "caching training data\n"
     ]
    },
    {
     "name": "stderr",
     "output_type": "stream",
     "text": [
      "100%|██████████████████████████████████████| 1000/1000 [00:04<00:00, 215.60it/s]\n"
     ]
    },
    {
     "name": "stdout",
     "output_type": "stream",
     "text": [
      "JSD: mean=0.21779301762580872, quartiles=[0.     0.1554 0.227  0.2938 0.5809]\n",
      "RMSE: all=0.07976354658603668, quartiles=[0.     0.0471 0.0667 0.0943 0.2449]\n",
      "RMSE: all=0.07976354658603668, quartiles=[0.     0.0471 0.0667 0.0943 0.2449]\n",
      "0.016051s\tinit\n",
      "5.351455s\tload\n",
      "0.678587s\thvg\n",
      "2.440016s\tnnls\n"
     ]
    },
    {
     "name": "stderr",
     "output_type": "stream",
     "text": [
      "/Users/potti/Documents/HPI/thesis/spatialtranscriptomics/st_data_gen/.venv/lib/python3.9/site-packages/scanpy/preprocessing/_normalization.py:170: UserWarning: Received a view of an AnnData. Making a copy.\n",
      "  view_to_actual(adata)\n"
     ]
    },
    {
     "name": "stdout",
     "output_type": "stream",
     "text": [
      "training anew\n",
      "caching training data\n"
     ]
    },
    {
     "name": "stderr",
     "output_type": "stream",
     "text": [
      "100%|██████████████████████████████████████| 1000/1000 [00:04<00:00, 229.94it/s]\n"
     ]
    },
    {
     "name": "stdout",
     "output_type": "stream",
     "text": [
      "JSD: mean=0.3897570073604584, quartiles=[0.     0.2077 0.3723 0.5375 0.8326]\n",
      "RMSE: all=0.16659694910049438, quartiles=[0.     0.0603 0.0953 0.1609 0.4068]\n",
      "RMSE: all=0.16659694910049438, quartiles=[0.     0.0603 0.0953 0.1609 0.4068]\n",
      "0.016174s\tinit\n",
      "5.252585s\tload\n",
      "0.630457s\thvg\n",
      "2.650784s\tnnls\n"
     ]
    },
    {
     "name": "stderr",
     "output_type": "stream",
     "text": [
      "/Users/potti/Documents/HPI/thesis/spatialtranscriptomics/st_data_gen/.venv/lib/python3.9/site-packages/scanpy/preprocessing/_normalization.py:170: UserWarning: Received a view of an AnnData. Making a copy.\n",
      "  view_to_actual(adata)\n"
     ]
    },
    {
     "name": "stdout",
     "output_type": "stream",
     "text": [
      "training anew\n",
      "caching training data\n"
     ]
    },
    {
     "name": "stderr",
     "output_type": "stream",
     "text": [
      "100%|██████████████████████████████████████| 1000/1000 [00:04<00:00, 226.55it/s]\n"
     ]
    },
    {
     "name": "stdout",
     "output_type": "stream",
     "text": [
      "JSD: mean=0.41668182611465454, quartiles=[0.     0.2633 0.3895 0.5767 0.8326]\n",
      "RMSE: all=0.18006059527397156, quartiles=[0.     0.0739 0.1128 0.2045 0.4264]\n",
      "RMSE: all=0.18006059527397156, quartiles=[0.     0.0739 0.1128 0.2045 0.4264]\n",
      "0.015375s\tinit\n",
      "5.488367s\tload\n",
      "0.678068s\thvg\n",
      "2.562711s\tnnls\n"
     ]
    },
    {
     "name": "stderr",
     "output_type": "stream",
     "text": [
      "/Users/potti/Documents/HPI/thesis/spatialtranscriptomics/st_data_gen/.venv/lib/python3.9/site-packages/scanpy/preprocessing/_normalization.py:170: UserWarning: Received a view of an AnnData. Making a copy.\n",
      "  view_to_actual(adata)\n"
     ]
    },
    {
     "name": "stdout",
     "output_type": "stream",
     "text": [
      "training anew\n",
      "caching training data\n"
     ]
    },
    {
     "name": "stderr",
     "output_type": "stream",
     "text": [
      "100%|██████████████████████████████████████| 1000/1000 [00:04<00:00, 220.32it/s]\n"
     ]
    },
    {
     "name": "stdout",
     "output_type": "stream",
     "text": [
      "JSD: mean=0.33696165680885315, quartiles=[0.     0.1905 0.3171 0.4638 0.8326]\n",
      "RMSE: all=0.15085753798484802, quartiles=[0.     0.0447 0.0894 0.1342 0.4266]\n",
      "RMSE: all=0.15085753798484802, quartiles=[0.     0.0447 0.0894 0.1342 0.4266]\n",
      "0.015060s\tinit\n",
      "3.412677s\tload\n",
      "0.817251s\thvg\n",
      "2.691755s\tnnls\n"
     ]
    },
    {
     "name": "stderr",
     "output_type": "stream",
     "text": [
      "/Users/potti/Documents/HPI/thesis/spatialtranscriptomics/st_data_gen/.venv/lib/python3.9/site-packages/scanpy/preprocessing/_normalization.py:170: UserWarning: Received a view of an AnnData. Making a copy.\n",
      "  view_to_actual(adata)\n"
     ]
    },
    {
     "name": "stdout",
     "output_type": "stream",
     "text": [
      "training anew\n",
      "caching training data\n"
     ]
    },
    {
     "name": "stderr",
     "output_type": "stream",
     "text": [
      "100%|██████████████████████████████████████| 1000/1000 [00:04<00:00, 200.39it/s]\n"
     ]
    },
    {
     "name": "stdout",
     "output_type": "stream",
     "text": [
      "JSD: mean=0.27983078360557556, quartiles=[0.     0.1935 0.2819 0.3531 0.7062]\n",
      "RMSE: all=0.09254974126815796, quartiles=[0.     0.0426 0.0739 0.1128 0.286 ]\n",
      "RMSE: all=0.09254974126815796, quartiles=[0.     0.0426 0.0739 0.1128 0.286 ]\n",
      "0.014258s\tinit\n",
      "3.435428s\tload\n",
      "0.791405s\thvg\n",
      "2.823693s\tnnls\n"
     ]
    },
    {
     "name": "stderr",
     "output_type": "stream",
     "text": [
      "/Users/potti/Documents/HPI/thesis/spatialtranscriptomics/st_data_gen/.venv/lib/python3.9/site-packages/scanpy/preprocessing/_normalization.py:170: UserWarning: Received a view of an AnnData. Making a copy.\n",
      "  view_to_actual(adata)\n"
     ]
    },
    {
     "name": "stdout",
     "output_type": "stream",
     "text": [
      "training anew\n",
      "caching training data\n"
     ]
    },
    {
     "name": "stderr",
     "output_type": "stream",
     "text": [
      "100%|██████████████████████████████████████| 1000/1000 [00:04<00:00, 202.41it/s]\n"
     ]
    },
    {
     "name": "stdout",
     "output_type": "stream",
     "text": [
      "JSD: mean=0.265445351600647, quartiles=[0.     0.1901 0.2749 0.3456 0.609 ]\n",
      "RMSE: all=0.08916787058115005, quartiles=[0.     0.0426 0.0739 0.1044 0.2796]\n",
      "RMSE: all=0.08916787058115005, quartiles=[0.     0.0426 0.0739 0.1044 0.2796]\n",
      "0.014385s\tinit\n",
      "3.301351s\tload\n",
      "0.753464s\thvg\n",
      "2.939653s\tnnls\n"
     ]
    },
    {
     "name": "stderr",
     "output_type": "stream",
     "text": [
      "/Users/potti/Documents/HPI/thesis/spatialtranscriptomics/st_data_gen/.venv/lib/python3.9/site-packages/scanpy/preprocessing/_normalization.py:170: UserWarning: Received a view of an AnnData. Making a copy.\n",
      "  view_to_actual(adata)\n"
     ]
    },
    {
     "name": "stdout",
     "output_type": "stream",
     "text": [
      "training anew\n",
      "caching training data\n"
     ]
    },
    {
     "name": "stderr",
     "output_type": "stream",
     "text": [
      "100%|██████████████████████████████████████| 1000/1000 [00:05<00:00, 192.07it/s]\n"
     ]
    },
    {
     "name": "stdout",
     "output_type": "stream",
     "text": [
      "JSD: mean=0.2802419364452362, quartiles=[0.     0.1992 0.2819 0.3634 0.6476]\n",
      "RMSE: all=0.09258902072906494, quartiles=[0.     0.0426 0.0739 0.1128 0.2558]\n",
      "RMSE: all=0.09258902072906494, quartiles=[0.     0.0426 0.0739 0.1128 0.2558]\n",
      "0.015587s\tinit\n",
      "3.503801s\tload\n",
      "0.716347s\thvg\n",
      "2.861800s\tnnls\n"
     ]
    },
    {
     "name": "stderr",
     "output_type": "stream",
     "text": [
      "/Users/potti/Documents/HPI/thesis/spatialtranscriptomics/st_data_gen/.venv/lib/python3.9/site-packages/scanpy/preprocessing/_normalization.py:170: UserWarning: Received a view of an AnnData. Making a copy.\n",
      "  view_to_actual(adata)\n"
     ]
    },
    {
     "name": "stdout",
     "output_type": "stream",
     "text": [
      "training anew\n",
      "caching training data\n"
     ]
    },
    {
     "name": "stderr",
     "output_type": "stream",
     "text": [
      "100%|██████████████████████████████████████| 1000/1000 [00:05<00:00, 192.46it/s]\n"
     ]
    },
    {
     "name": "stdout",
     "output_type": "stream",
     "text": [
      "JSD: mean=0.2712051272392273, quartiles=[0.     0.1906 0.2749 0.35   0.762 ]\n",
      "RMSE: all=0.08781179040670395, quartiles=[0.     0.0426 0.0739 0.0953 0.3838]\n",
      "RMSE: all=0.08781179040670395, quartiles=[0.     0.0426 0.0739 0.0953 0.3838]\n",
      "0.013903s\tinit\n",
      "3.467500s\tload\n",
      "0.672367s\thvg\n",
      "2.795560s\tnnls\n"
     ]
    },
    {
     "name": "stderr",
     "output_type": "stream",
     "text": [
      "/Users/potti/Documents/HPI/thesis/spatialtranscriptomics/st_data_gen/.venv/lib/python3.9/site-packages/scanpy/preprocessing/_normalization.py:170: UserWarning: Received a view of an AnnData. Making a copy.\n",
      "  view_to_actual(adata)\n"
     ]
    },
    {
     "name": "stdout",
     "output_type": "stream",
     "text": [
      "training anew\n",
      "caching training data\n"
     ]
    },
    {
     "name": "stderr",
     "output_type": "stream",
     "text": [
      "100%|██████████████████████████████████████| 1000/1000 [00:05<00:00, 187.38it/s]\n"
     ]
    },
    {
     "name": "stdout",
     "output_type": "stream",
     "text": [
      "JSD: mean=0.27185267210006714, quartiles=[0.     0.1901 0.2742 0.3537 0.8326]\n",
      "RMSE: all=0.09120406955480576, quartiles=[0.     0.0426 0.0739 0.1044 0.3438]\n",
      "RMSE: all=0.09120406955480576, quartiles=[0.     0.0426 0.0739 0.1044 0.3438]\n",
      "0.016619s\tinit\n",
      "3.305431s\tload\n",
      "0.637533s\thvg\n",
      "2.748952s\tnnls\n"
     ]
    },
    {
     "name": "stderr",
     "output_type": "stream",
     "text": [
      "/Users/potti/Documents/HPI/thesis/spatialtranscriptomics/st_data_gen/.venv/lib/python3.9/site-packages/scanpy/preprocessing/_normalization.py:170: UserWarning: Received a view of an AnnData. Making a copy.\n",
      "  view_to_actual(adata)\n"
     ]
    },
    {
     "name": "stdout",
     "output_type": "stream",
     "text": [
      "training anew\n",
      "caching training data\n"
     ]
    },
    {
     "name": "stderr",
     "output_type": "stream",
     "text": [
      "100%|██████████████████████████████████████| 1000/1000 [00:05<00:00, 199.40it/s]\n"
     ]
    },
    {
     "name": "stdout",
     "output_type": "stream",
     "text": [
      "JSD: mean=0.2722933888435364, quartiles=[0.     0.1901 0.2749 0.35   0.8326]\n",
      "RMSE: all=0.08883079141378403, quartiles=[0.     0.0426 0.0739 0.0953 0.3693]\n",
      "RMSE: all=0.08883079141378403, quartiles=[0.     0.0426 0.0739 0.0953 0.3693]\n",
      "0.013050s\tinit\n",
      "3.288259s\tload\n",
      "0.725337s\thvg\n",
      "2.533828s\tnnls\n"
     ]
    },
    {
     "name": "stderr",
     "output_type": "stream",
     "text": [
      "/Users/potti/Documents/HPI/thesis/spatialtranscriptomics/st_data_gen/.venv/lib/python3.9/site-packages/scanpy/preprocessing/_normalization.py:170: UserWarning: Received a view of an AnnData. Making a copy.\n",
      "  view_to_actual(adata)\n"
     ]
    },
    {
     "name": "stdout",
     "output_type": "stream",
     "text": [
      "training anew\n",
      "caching training data\n"
     ]
    },
    {
     "name": "stderr",
     "output_type": "stream",
     "text": [
      "100%|██████████████████████████████████████| 1000/1000 [00:04<00:00, 206.57it/s]\n"
     ]
    },
    {
     "name": "stdout",
     "output_type": "stream",
     "text": [
      "JSD: mean=0.285997211933136, quartiles=[0.     0.1956 0.2819 0.3742 0.6655]\n",
      "RMSE: all=0.09585025906562805, quartiles=[0.     0.0426 0.0853 0.1128 0.2985]\n",
      "RMSE: all=0.09585025906562805, quartiles=[0.     0.0426 0.0853 0.1128 0.2985]\n",
      "0.013462s\tinit\n",
      "3.297315s\tload\n",
      "0.728184s\thvg\n",
      "2.788639s\tnnls\n"
     ]
    },
    {
     "name": "stderr",
     "output_type": "stream",
     "text": [
      "/Users/potti/Documents/HPI/thesis/spatialtranscriptomics/st_data_gen/.venv/lib/python3.9/site-packages/scanpy/preprocessing/_normalization.py:170: UserWarning: Received a view of an AnnData. Making a copy.\n",
      "  view_to_actual(adata)\n"
     ]
    },
    {
     "name": "stdout",
     "output_type": "stream",
     "text": [
      "training anew\n",
      "caching training data\n"
     ]
    },
    {
     "name": "stderr",
     "output_type": "stream",
     "text": [
      "100%|██████████████████████████████████████| 1000/1000 [00:05<00:00, 190.39it/s]\n"
     ]
    },
    {
     "name": "stdout",
     "output_type": "stream",
     "text": [
      "JSD: mean=0.2667909562587738, quartiles=[0.     0.1901 0.2736 0.35   0.6966]\n",
      "RMSE: all=0.0888410210609436, quartiles=[0.     0.0426 0.0739 0.0953 0.2985]\n",
      "RMSE: all=0.0888410210609436, quartiles=[0.     0.0426 0.0739 0.0953 0.2985]\n",
      "0.015528s\tinit\n",
      "3.472539s\tload\n",
      "0.770487s\thvg\n",
      "2.554734s\tnnls\n"
     ]
    },
    {
     "name": "stderr",
     "output_type": "stream",
     "text": [
      "/Users/potti/Documents/HPI/thesis/spatialtranscriptomics/st_data_gen/.venv/lib/python3.9/site-packages/scanpy/preprocessing/_normalization.py:170: UserWarning: Received a view of an AnnData. Making a copy.\n",
      "  view_to_actual(adata)\n"
     ]
    },
    {
     "name": "stdout",
     "output_type": "stream",
     "text": [
      "training anew\n",
      "caching training data\n"
     ]
    },
    {
     "name": "stderr",
     "output_type": "stream",
     "text": [
      "100%|██████████████████████████████████████| 1000/1000 [00:05<00:00, 196.42it/s]\n"
     ]
    },
    {
     "name": "stdout",
     "output_type": "stream",
     "text": [
      "JSD: mean=0.29064294695854187, quartiles=[0.     0.2077 0.3    0.3807 0.6638]\n",
      "RMSE: all=0.1001453548669815, quartiles=[0.     0.0603 0.0853 0.1128 0.2796]\n",
      "RMSE: all=0.1001453548669815, quartiles=[0.     0.0603 0.0853 0.1128 0.2796]\n",
      "0.014775s\tinit\n",
      "3.467101s\tload\n",
      "0.681709s\thvg\n",
      "2.938645s\tnnls\n"
     ]
    },
    {
     "name": "stderr",
     "output_type": "stream",
     "text": [
      "/Users/potti/Documents/HPI/thesis/spatialtranscriptomics/st_data_gen/.venv/lib/python3.9/site-packages/scanpy/preprocessing/_normalization.py:170: UserWarning: Received a view of an AnnData. Making a copy.\n",
      "  view_to_actual(adata)\n"
     ]
    },
    {
     "name": "stdout",
     "output_type": "stream",
     "text": [
      "training anew\n",
      "caching training data\n"
     ]
    },
    {
     "name": "stderr",
     "output_type": "stream",
     "text": [
      "100%|██████████████████████████████████████| 1000/1000 [00:05<00:00, 195.49it/s]\n"
     ]
    },
    {
     "name": "stdout",
     "output_type": "stream",
     "text": [
      "JSD: mean=0.2928205132484436, quartiles=[0.     0.1901 0.2878 0.4057 0.6792]\n",
      "RMSE: all=0.10231857746839523, quartiles=[0.     0.0426 0.0739 0.1128 0.3411]\n",
      "RMSE: all=0.10231857746839523, quartiles=[0.     0.0426 0.0739 0.1128 0.3411]\n",
      "0.015431s\tinit\n",
      "3.314251s\tload\n",
      "0.691507s\thvg\n",
      "2.698964s\tnnls\n"
     ]
    },
    {
     "name": "stderr",
     "output_type": "stream",
     "text": [
      "/Users/potti/Documents/HPI/thesis/spatialtranscriptomics/st_data_gen/.venv/lib/python3.9/site-packages/scanpy/preprocessing/_normalization.py:170: UserWarning: Received a view of an AnnData. Making a copy.\n",
      "  view_to_actual(adata)\n"
     ]
    },
    {
     "name": "stdout",
     "output_type": "stream",
     "text": [
      "training anew\n",
      "caching training data\n"
     ]
    },
    {
     "name": "stderr",
     "output_type": "stream",
     "text": [
      "100%|██████████████████████████████████████| 1000/1000 [00:05<00:00, 193.07it/s]\n"
     ]
    },
    {
     "name": "stdout",
     "output_type": "stream",
     "text": [
      "JSD: mean=0.28120720386505127, quartiles=[0.     0.1901 0.2762 0.3742 0.725 ]\n",
      "RMSE: all=0.09568889439105988, quartiles=[0.     0.0426 0.0739 0.0953 0.3838]\n",
      "RMSE: all=0.09568889439105988, quartiles=[0.     0.0426 0.0739 0.0953 0.3838]\n",
      "0.017884s\tinit\n",
      "3.431121s\tload\n",
      "0.655715s\thvg\n",
      "2.928392s\tnnls\n"
     ]
    },
    {
     "name": "stderr",
     "output_type": "stream",
     "text": [
      "/Users/potti/Documents/HPI/thesis/spatialtranscriptomics/st_data_gen/.venv/lib/python3.9/site-packages/scanpy/preprocessing/_normalization.py:170: UserWarning: Received a view of an AnnData. Making a copy.\n",
      "  view_to_actual(adata)\n"
     ]
    },
    {
     "name": "stdout",
     "output_type": "stream",
     "text": [
      "training anew\n",
      "caching training data\n"
     ]
    },
    {
     "name": "stderr",
     "output_type": "stream",
     "text": [
      "100%|██████████████████████████████████████| 1000/1000 [00:05<00:00, 196.66it/s]\n"
     ]
    },
    {
     "name": "stdout",
     "output_type": "stream",
     "text": [
      "JSD: mean=0.31226834654808044, quartiles=[0.     0.1956 0.3214 0.4264 0.7269]\n",
      "RMSE: all=0.10893701761960983, quartiles=[0.     0.0426 0.0853 0.1206 0.3219]\n",
      "RMSE: all=0.10893701761960983, quartiles=[0.     0.0426 0.0853 0.1206 0.3219]\n",
      "0.008492s\tinit\n",
      "1.265282s\tload\n",
      "0.816433s\thvg\n",
      "0.794712s\tnnls\n"
     ]
    },
    {
     "name": "stderr",
     "output_type": "stream",
     "text": [
      "/Users/potti/Documents/HPI/thesis/spatialtranscriptomics/st_data_gen/.venv/lib/python3.9/site-packages/scanpy/preprocessing/_normalization.py:170: UserWarning: Received a view of an AnnData. Making a copy.\n",
      "  view_to_actual(adata)\n"
     ]
    },
    {
     "name": "stdout",
     "output_type": "stream",
     "text": [
      "training anew\n",
      "caching training data\n"
     ]
    },
    {
     "name": "stderr",
     "output_type": "stream",
     "text": [
      "100%|██████████████████████████████████████| 1000/1000 [00:04<00:00, 215.26it/s]\n"
     ]
    },
    {
     "name": "stdout",
     "output_type": "stream",
     "text": [
      "JSD: mean=0.4291967749595642, quartiles=[0.     0.2736 0.3807 0.5976 0.8326]\n",
      "RMSE: all=0.18645983934402466, quartiles=[0.     0.0739 0.1128 0.1907 0.4264]\n",
      "RMSE: all=0.18645983934402466, quartiles=[0.     0.0739 0.1128 0.1907 0.4264]\n",
      "0.008321s\tinit\n",
      "1.265095s\tload\n",
      "0.672810s\thvg\n",
      "0.768691s\tnnls\n"
     ]
    },
    {
     "name": "stderr",
     "output_type": "stream",
     "text": [
      "/Users/potti/Documents/HPI/thesis/spatialtranscriptomics/st_data_gen/.venv/lib/python3.9/site-packages/scanpy/preprocessing/_normalization.py:170: UserWarning: Received a view of an AnnData. Making a copy.\n",
      "  view_to_actual(adata)\n"
     ]
    },
    {
     "name": "stdout",
     "output_type": "stream",
     "text": [
      "training anew\n",
      "caching training data\n"
     ]
    },
    {
     "name": "stderr",
     "output_type": "stream",
     "text": [
      "100%|██████████████████████████████████████| 1000/1000 [00:04<00:00, 213.67it/s]\n"
     ]
    },
    {
     "name": "stdout",
     "output_type": "stream",
     "text": [
      "JSD: mean=0.25744757056236267, quartiles=[0.     0.1897 0.2736 0.3425 0.609 ]\n",
      "RMSE: all=0.09822876006364822, quartiles=[0.     0.0471 0.0816 0.1155 0.3091]\n",
      "RMSE: all=0.09822876006364822, quartiles=[0.     0.0471 0.0816 0.1155 0.3091]\n",
      "0.007207s\tinit\n",
      "1.275305s\tload\n",
      "0.657718s\thvg\n",
      "0.788958s\tnnls\n"
     ]
    },
    {
     "name": "stderr",
     "output_type": "stream",
     "text": [
      "/Users/potti/Documents/HPI/thesis/spatialtranscriptomics/st_data_gen/.venv/lib/python3.9/site-packages/scanpy/preprocessing/_normalization.py:170: UserWarning: Received a view of an AnnData. Making a copy.\n",
      "  view_to_actual(adata)\n"
     ]
    },
    {
     "name": "stdout",
     "output_type": "stream",
     "text": [
      "training anew\n",
      "caching training data\n"
     ]
    },
    {
     "name": "stderr",
     "output_type": "stream",
     "text": [
      "100%|██████████████████████████████████████| 1000/1000 [00:04<00:00, 205.37it/s]\n"
     ]
    },
    {
     "name": "stdout",
     "output_type": "stream",
     "text": [
      "JSD: mean=0.44282329082489014, quartiles=[0.     0.2736 0.4048 0.6094 0.8326]\n",
      "RMSE: all=0.19390250742435455, quartiles=[0.     0.0739 0.1128 0.2045 0.4264]\n",
      "RMSE: all=0.19390250742435455, quartiles=[0.     0.0739 0.1128 0.2045 0.4264]\n",
      "0.007775s\tinit\n",
      "1.291281s\tload\n",
      "0.612374s\thvg\n",
      "0.790366s\tnnls\n",
      "training anew\n",
      "caching training data\n"
     ]
    },
    {
     "name": "stderr",
     "output_type": "stream",
     "text": [
      "/Users/potti/Documents/HPI/thesis/spatialtranscriptomics/st_data_gen/.venv/lib/python3.9/site-packages/scanpy/preprocessing/_normalization.py:170: UserWarning: Received a view of an AnnData. Making a copy.\n",
      "  view_to_actual(adata)\n",
      "100%|██████████████████████████████████████| 1000/1000 [00:04<00:00, 227.25it/s]\n"
     ]
    },
    {
     "name": "stdout",
     "output_type": "stream",
     "text": [
      "JSD: mean=0.3887004554271698, quartiles=[0.     0.2381 0.3472 0.5222 0.8326]\n",
      "RMSE: all=0.1693839132785797, quartiles=[0.     0.0603 0.0953 0.1595 0.4264]\n",
      "RMSE: all=0.1693839132785797, quartiles=[0.     0.0603 0.0953 0.1595 0.4264]\n",
      "0.007588s\tinit\n",
      "1.204706s\tload\n",
      "0.594132s\thvg\n",
      "0.784579s\tnnls\n",
      "training anew\n"
     ]
    },
    {
     "name": "stderr",
     "output_type": "stream",
     "text": [
      "/Users/potti/Documents/HPI/thesis/spatialtranscriptomics/st_data_gen/.venv/lib/python3.9/site-packages/scanpy/preprocessing/_normalization.py:170: UserWarning: Received a view of an AnnData. Making a copy.\n",
      "  view_to_actual(adata)\n"
     ]
    },
    {
     "name": "stdout",
     "output_type": "stream",
     "text": [
      "caching training data\n"
     ]
    },
    {
     "name": "stderr",
     "output_type": "stream",
     "text": [
      "100%|██████████████████████████████████████| 1000/1000 [00:04<00:00, 203.18it/s]\n"
     ]
    },
    {
     "name": "stdout",
     "output_type": "stream",
     "text": [
      "JSD: mean=0.26365625858306885, quartiles=[0.     0.1897 0.2736 0.3459 0.7322]\n",
      "RMSE: all=0.09982206672430038, quartiles=[0.     0.0471 0.0816 0.1155 0.3801]\n",
      "RMSE: all=0.09982206672430038, quartiles=[0.     0.0471 0.0816 0.1155 0.3801]\n",
      "0.006441s\tinit\n",
      "1.276027s\tload\n",
      "0.630006s\thvg\n",
      "0.811900s\tnnls\n",
      "training anew\n"
     ]
    },
    {
     "name": "stderr",
     "output_type": "stream",
     "text": [
      "/Users/potti/Documents/HPI/thesis/spatialtranscriptomics/st_data_gen/.venv/lib/python3.9/site-packages/scanpy/preprocessing/_normalization.py:170: UserWarning: Received a view of an AnnData. Making a copy.\n",
      "  view_to_actual(adata)\n"
     ]
    },
    {
     "name": "stdout",
     "output_type": "stream",
     "text": [
      "caching training data\n"
     ]
    },
    {
     "name": "stderr",
     "output_type": "stream",
     "text": [
      "100%|██████████████████████████████████████| 1000/1000 [00:04<00:00, 218.30it/s]\n"
     ]
    },
    {
     "name": "stdout",
     "output_type": "stream",
     "text": [
      "JSD: mean=0.40488001704216003, quartiles=[0.     0.235  0.355  0.5424 0.8326]\n",
      "RMSE: all=0.17980292439460754, quartiles=[0.     0.0603 0.0953 0.1758 0.4264]\n",
      "RMSE: all=0.17980292439460754, quartiles=[0.     0.0603 0.0953 0.1758 0.4264]\n",
      "0.007676s\tinit\n",
      "1.281482s\tload\n",
      "0.654558s\thvg\n",
      "0.791592s\tnnls\n"
     ]
    },
    {
     "name": "stderr",
     "output_type": "stream",
     "text": [
      "/Users/potti/Documents/HPI/thesis/spatialtranscriptomics/st_data_gen/.venv/lib/python3.9/site-packages/scanpy/preprocessing/_normalization.py:170: UserWarning: Received a view of an AnnData. Making a copy.\n",
      "  view_to_actual(adata)\n"
     ]
    },
    {
     "name": "stdout",
     "output_type": "stream",
     "text": [
      "training anew\n",
      "caching training data\n"
     ]
    },
    {
     "name": "stderr",
     "output_type": "stream",
     "text": [
      "100%|██████████████████████████████████████| 1000/1000 [00:04<00:00, 216.16it/s]\n"
     ]
    },
    {
     "name": "stdout",
     "output_type": "stream",
     "text": [
      "JSD: mean=0.4320756793022156, quartiles=[0.     0.2613 0.3856 0.6243 0.8326]\n",
      "RMSE: all=0.1935693472623825, quartiles=[0.     0.0603 0.1128 0.2132 0.4264]\n",
      "RMSE: all=0.1935693472623825, quartiles=[0.     0.0603 0.1128 0.2132 0.4264]\n",
      "0.006981s\tinit\n",
      "1.229285s\tload\n",
      "0.664359s\thvg\n",
      "0.797357s\tnnls\n"
     ]
    },
    {
     "name": "stderr",
     "output_type": "stream",
     "text": [
      "/Users/potti/Documents/HPI/thesis/spatialtranscriptomics/st_data_gen/.venv/lib/python3.9/site-packages/scanpy/preprocessing/_normalization.py:170: UserWarning: Received a view of an AnnData. Making a copy.\n",
      "  view_to_actual(adata)\n"
     ]
    },
    {
     "name": "stdout",
     "output_type": "stream",
     "text": [
      "training anew\n",
      "caching training data\n"
     ]
    },
    {
     "name": "stderr",
     "output_type": "stream",
     "text": [
      "100%|██████████████████████████████████████| 1000/1000 [00:04<00:00, 206.47it/s]\n"
     ]
    },
    {
     "name": "stdout",
     "output_type": "stream",
     "text": [
      "JSD: mean=0.26066315174102783, quartiles=[0.     0.1897 0.2736 0.3461 0.6579]\n",
      "RMSE: all=0.09830790758132935, quartiles=[0.     0.0471 0.0816 0.1054 0.33  ]\n",
      "RMSE: all=0.09830790758132935, quartiles=[0.     0.0471 0.0816 0.1054 0.33  ]\n",
      "0.007888s\tinit\n",
      "1.261570s\tload\n",
      "0.661534s\thvg\n",
      "0.764804s\tnnls\n"
     ]
    },
    {
     "name": "stderr",
     "output_type": "stream",
     "text": [
      "/Users/potti/Documents/HPI/thesis/spatialtranscriptomics/st_data_gen/.venv/lib/python3.9/site-packages/scanpy/preprocessing/_normalization.py:170: UserWarning: Received a view of an AnnData. Making a copy.\n",
      "  view_to_actual(adata)\n"
     ]
    },
    {
     "name": "stdout",
     "output_type": "stream",
     "text": [
      "training anew\n",
      "caching training data\n"
     ]
    },
    {
     "name": "stderr",
     "output_type": "stream",
     "text": [
      "100%|██████████████████████████████████████| 1000/1000 [00:04<00:00, 218.59it/s]\n"
     ]
    },
    {
     "name": "stdout",
     "output_type": "stream",
     "text": [
      "JSD: mean=0.4600233733654022, quartiles=[0.     0.2736 0.4183 0.6865 0.8326]\n",
      "RMSE: all=0.20609794557094574, quartiles=[0.     0.0739 0.1206 0.2567 0.4264]\n",
      "RMSE: all=0.20609794557094574, quartiles=[0.     0.0739 0.1206 0.2567 0.4264]\n",
      "0.007944s\tinit\n",
      "1.318971s\tload\n",
      "0.658531s\thvg\n",
      "0.851972s\tnnls\n",
      "training anew\n"
     ]
    },
    {
     "name": "stderr",
     "output_type": "stream",
     "text": [
      "/Users/potti/Documents/HPI/thesis/spatialtranscriptomics/st_data_gen/.venv/lib/python3.9/site-packages/scanpy/preprocessing/_normalization.py:170: UserWarning: Received a view of an AnnData. Making a copy.\n",
      "  view_to_actual(adata)\n"
     ]
    },
    {
     "name": "stdout",
     "output_type": "stream",
     "text": [
      "caching training data\n"
     ]
    },
    {
     "name": "stderr",
     "output_type": "stream",
     "text": [
      "100%|██████████████████████████████████████| 1000/1000 [00:04<00:00, 206.83it/s]\n"
     ]
    },
    {
     "name": "stdout",
     "output_type": "stream",
     "text": [
      "JSD: mean=0.40950247645378113, quartiles=[0.     0.2223 0.3723 0.5767 0.8326]\n",
      "RMSE: all=0.18648909032344818, quartiles=[0.     0.0426 0.0953 0.2045 0.4264]\n",
      "RMSE: all=0.18648909032344818, quartiles=[0.     0.0426 0.0953 0.2045 0.4264]\n",
      "0.009018s\tinit\n",
      "1.277970s\tload\n",
      "0.708107s\thvg\n",
      "0.769806s\tnnls\n",
      "training anew\n"
     ]
    },
    {
     "name": "stderr",
     "output_type": "stream",
     "text": [
      "/Users/potti/Documents/HPI/thesis/spatialtranscriptomics/st_data_gen/.venv/lib/python3.9/site-packages/scanpy/preprocessing/_normalization.py:170: UserWarning: Received a view of an AnnData. Making a copy.\n",
      "  view_to_actual(adata)\n"
     ]
    },
    {
     "name": "stdout",
     "output_type": "stream",
     "text": [
      "caching training data\n"
     ]
    },
    {
     "name": "stderr",
     "output_type": "stream",
     "text": [
      "100%|██████████████████████████████████████| 1000/1000 [00:04<00:00, 215.59it/s]\n"
     ]
    },
    {
     "name": "stdout",
     "output_type": "stream",
     "text": [
      "JSD: mean=0.27359500527381897, quartiles=[0.     0.1901 0.2739 0.3683 0.725 ]\n",
      "RMSE: all=0.10481730103492737, quartiles=[0.     0.0471 0.0816 0.1054 0.4243]\n",
      "RMSE: all=0.10481730103492737, quartiles=[0.     0.0471 0.0816 0.1054 0.4243]\n",
      "0.008418s\tinit\n",
      "1.308216s\tload\n",
      "0.627146s\thvg\n",
      "0.842791s\tnnls\n",
      "training anew\n"
     ]
    },
    {
     "name": "stderr",
     "output_type": "stream",
     "text": [
      "/Users/potti/Documents/HPI/thesis/spatialtranscriptomics/st_data_gen/.venv/lib/python3.9/site-packages/scanpy/preprocessing/_normalization.py:170: UserWarning: Received a view of an AnnData. Making a copy.\n",
      "  view_to_actual(adata)\n"
     ]
    },
    {
     "name": "stdout",
     "output_type": "stream",
     "text": [
      "caching training data\n"
     ]
    },
    {
     "name": "stderr",
     "output_type": "stream",
     "text": [
      "100%|██████████████████████████████████████| 1000/1000 [00:04<00:00, 216.25it/s]\n"
     ]
    },
    {
     "name": "stdout",
     "output_type": "stream",
     "text": [
      "JSD: mean=0.43969061970710754, quartiles=[0.     0.2736 0.4188 0.6026 0.8326]\n",
      "RMSE: all=0.1967092901468277, quartiles=[0.     0.0603 0.1128 0.2216 0.4264]\n",
      "RMSE: all=0.1967092901468277, quartiles=[0.     0.0603 0.1128 0.2216 0.4264]\n",
      "0.015533s\tinit\n",
      "3.371098s\tload\n",
      "0.745067s\thvg\n",
      "2.548551s\tnnls\n"
     ]
    },
    {
     "name": "stderr",
     "output_type": "stream",
     "text": [
      "/Users/potti/Documents/HPI/thesis/spatialtranscriptomics/st_data_gen/.venv/lib/python3.9/site-packages/scanpy/preprocessing/_normalization.py:170: UserWarning: Received a view of an AnnData. Making a copy.\n",
      "  view_to_actual(adata)\n"
     ]
    },
    {
     "name": "stdout",
     "output_type": "stream",
     "text": [
      "training anew\n",
      "caching training data\n"
     ]
    },
    {
     "name": "stderr",
     "output_type": "stream",
     "text": [
      "100%|██████████████████████████████████████| 1000/1000 [00:05<00:00, 199.20it/s]\n"
     ]
    },
    {
     "name": "stdout",
     "output_type": "stream",
     "text": [
      "JSD: mean=0.3358398973941803, quartiles=[0.     0.2315 0.328  0.4203 0.8326]\n",
      "RMSE: all=0.1218046173453331, quartiles=[0.     0.0603 0.0853 0.1279 0.3885]\n",
      "RMSE: all=0.1218046173453331, quartiles=[0.     0.0603 0.0853 0.1279 0.3885]\n",
      "0.015227s\tinit\n",
      "3.300642s\tload\n",
      "0.764616s\thvg\n",
      "2.558072s\tnnls\n"
     ]
    },
    {
     "name": "stderr",
     "output_type": "stream",
     "text": [
      "/Users/potti/Documents/HPI/thesis/spatialtranscriptomics/st_data_gen/.venv/lib/python3.9/site-packages/scanpy/preprocessing/_normalization.py:170: UserWarning: Received a view of an AnnData. Making a copy.\n",
      "  view_to_actual(adata)\n"
     ]
    },
    {
     "name": "stdout",
     "output_type": "stream",
     "text": [
      "training anew\n",
      "caching training data\n"
     ]
    },
    {
     "name": "stderr",
     "output_type": "stream",
     "text": [
      "100%|██████████████████████████████████████| 1000/1000 [00:04<00:00, 201.40it/s]\n"
     ]
    },
    {
     "name": "stdout",
     "output_type": "stream",
     "text": [
      "JSD: mean=0.3380920886993408, quartiles=[0.     0.2223 0.3252 0.4264 0.8326]\n",
      "RMSE: all=0.12436749041080475, quartiles=[0.     0.0603 0.0853 0.1279 0.4068]\n",
      "RMSE: all=0.12436749041080475, quartiles=[0.     0.0603 0.0853 0.1279 0.4068]\n",
      "0.015596s\tinit\n",
      "3.282300s\tload\n",
      "0.782516s\thvg\n",
      "2.615471s\tnnls\n"
     ]
    },
    {
     "name": "stderr",
     "output_type": "stream",
     "text": [
      "/Users/potti/Documents/HPI/thesis/spatialtranscriptomics/st_data_gen/.venv/lib/python3.9/site-packages/scanpy/preprocessing/_normalization.py:170: UserWarning: Received a view of an AnnData. Making a copy.\n",
      "  view_to_actual(adata)\n"
     ]
    },
    {
     "name": "stdout",
     "output_type": "stream",
     "text": [
      "training anew\n",
      "caching training data\n"
     ]
    },
    {
     "name": "stderr",
     "output_type": "stream",
     "text": [
      "100%|██████████████████████████████████████| 1000/1000 [00:04<00:00, 210.44it/s]\n"
     ]
    },
    {
     "name": "stdout",
     "output_type": "stream",
     "text": [
      "JSD: mean=0.2796003222465515, quartiles=[0.     0.1992 0.2818 0.3634 0.6476]\n",
      "RMSE: all=0.09705668687820435, quartiles=[0.     0.0447 0.0775 0.1183 0.2683]\n",
      "RMSE: all=0.09705668687820435, quartiles=[0.     0.0447 0.0775 0.1183 0.2683]\n",
      "0.013233s\tinit\n",
      "3.201365s\tload\n",
      "0.679534s\thvg\n",
      "2.686104s\tnnls\n"
     ]
    },
    {
     "name": "stderr",
     "output_type": "stream",
     "text": [
      "/Users/potti/Documents/HPI/thesis/spatialtranscriptomics/st_data_gen/.venv/lib/python3.9/site-packages/scanpy/preprocessing/_normalization.py:170: UserWarning: Received a view of an AnnData. Making a copy.\n",
      "  view_to_actual(adata)\n"
     ]
    },
    {
     "name": "stdout",
     "output_type": "stream",
     "text": [
      "training anew\n",
      "caching training data\n"
     ]
    },
    {
     "name": "stderr",
     "output_type": "stream",
     "text": [
      "100%|██████████████████████████████████████| 1000/1000 [00:04<00:00, 201.26it/s]\n"
     ]
    },
    {
     "name": "stdout",
     "output_type": "stream",
     "text": [
      "JSD: mean=0.3169994056224823, quartiles=[0.     0.2131 0.3104 0.3956 0.8326]\n",
      "RMSE: all=0.11169764399528503, quartiles=[0.     0.0426 0.0853 0.1128 0.4068]\n",
      "RMSE: all=0.11169764399528503, quartiles=[0.     0.0426 0.0853 0.1128 0.4068]\n",
      "0.016629s\tinit\n",
      "3.234020s\tload\n",
      "0.632159s\thvg\n",
      "2.424869s\tnnls\n"
     ]
    },
    {
     "name": "stderr",
     "output_type": "stream",
     "text": [
      "/Users/potti/Documents/HPI/thesis/spatialtranscriptomics/st_data_gen/.venv/lib/python3.9/site-packages/scanpy/preprocessing/_normalization.py:170: UserWarning: Received a view of an AnnData. Making a copy.\n",
      "  view_to_actual(adata)\n"
     ]
    },
    {
     "name": "stdout",
     "output_type": "stream",
     "text": [
      "training anew\n",
      "caching training data\n"
     ]
    },
    {
     "name": "stderr",
     "output_type": "stream",
     "text": [
      "100%|██████████████████████████████████████| 1000/1000 [00:04<00:00, 208.68it/s]\n"
     ]
    },
    {
     "name": "stdout",
     "output_type": "stream",
     "text": [
      "JSD: mean=0.33293968439102173, quartiles=[0.     0.2165 0.3142 0.424  0.8326]\n",
      "RMSE: all=0.12297080457210541, quartiles=[0.     0.0426 0.0853 0.1206 0.3885]\n",
      "RMSE: all=0.12297080457210541, quartiles=[0.     0.0426 0.0853 0.1206 0.3885]\n",
      "0.012448s\tinit\n",
      "3.223942s\tload\n",
      "0.650622s\thvg\n",
      "2.637431s\tnnls\n"
     ]
    },
    {
     "name": "stderr",
     "output_type": "stream",
     "text": [
      "/Users/potti/Documents/HPI/thesis/spatialtranscriptomics/st_data_gen/.venv/lib/python3.9/site-packages/scanpy/preprocessing/_normalization.py:170: UserWarning: Received a view of an AnnData. Making a copy.\n",
      "  view_to_actual(adata)\n"
     ]
    },
    {
     "name": "stdout",
     "output_type": "stream",
     "text": [
      "training anew\n",
      "caching training data\n"
     ]
    },
    {
     "name": "stderr",
     "output_type": "stream",
     "text": [
      "100%|██████████████████████████████████████| 1000/1000 [00:04<00:00, 203.86it/s]\n"
     ]
    },
    {
     "name": "stdout",
     "output_type": "stream",
     "text": [
      "JSD: mean=0.2718640863895416, quartiles=[0.     0.1901 0.2749 0.35   0.8326]\n",
      "RMSE: all=0.09309135377407074, quartiles=[0.     0.0447 0.0775 0.1    0.3873]\n",
      "RMSE: all=0.09309135377407074, quartiles=[0.     0.0447 0.0775 0.1    0.3873]\n",
      "0.014676s\tinit\n",
      "3.217328s\tload\n",
      "0.690336s\thvg\n",
      "2.328787s\tnnls\n"
     ]
    },
    {
     "name": "stderr",
     "output_type": "stream",
     "text": [
      "/Users/potti/Documents/HPI/thesis/spatialtranscriptomics/st_data_gen/.venv/lib/python3.9/site-packages/scanpy/preprocessing/_normalization.py:170: UserWarning: Received a view of an AnnData. Making a copy.\n",
      "  view_to_actual(adata)\n"
     ]
    },
    {
     "name": "stdout",
     "output_type": "stream",
     "text": [
      "training anew\n",
      "caching training data\n"
     ]
    },
    {
     "name": "stderr",
     "output_type": "stream",
     "text": [
      "100%|██████████████████████████████████████| 1000/1000 [00:04<00:00, 203.33it/s]\n"
     ]
    },
    {
     "name": "stdout",
     "output_type": "stream",
     "text": [
      "JSD: mean=0.3502959907054901, quartiles=[0.     0.2621 0.3425 0.4429 0.8326]\n",
      "RMSE: all=0.12650547921657562, quartiles=[0.     0.0603 0.0953 0.1279 0.4068]\n",
      "RMSE: all=0.12650547921657562, quartiles=[0.     0.0603 0.0953 0.1279 0.4068]\n",
      "0.013782s\tinit\n",
      "3.154077s\tload\n",
      "0.703386s\thvg\n",
      "2.370859s\tnnls\n"
     ]
    },
    {
     "name": "stderr",
     "output_type": "stream",
     "text": [
      "/Users/potti/Documents/HPI/thesis/spatialtranscriptomics/st_data_gen/.venv/lib/python3.9/site-packages/scanpy/preprocessing/_normalization.py:170: UserWarning: Received a view of an AnnData. Making a copy.\n",
      "  view_to_actual(adata)\n"
     ]
    },
    {
     "name": "stdout",
     "output_type": "stream",
     "text": [
      "training anew\n",
      "caching training data\n"
     ]
    },
    {
     "name": "stderr",
     "output_type": "stream",
     "text": [
      "100%|██████████████████████████████████████| 1000/1000 [00:04<00:00, 211.15it/s]\n"
     ]
    },
    {
     "name": "stdout",
     "output_type": "stream",
     "text": [
      "JSD: mean=0.34015515446662903, quartiles=[0.     0.2077 0.325  0.4264 0.8326]\n",
      "RMSE: all=0.1267782598733902, quartiles=[0.     0.0559 0.0853 0.1279 0.4264]\n",
      "RMSE: all=0.1267782598733902, quartiles=[0.     0.0559 0.0853 0.1279 0.4264]\n",
      "0.013524s\tinit\n",
      "3.115671s\tload\n",
      "0.705814s\thvg\n",
      "2.299104s\tnnls\n"
     ]
    },
    {
     "name": "stderr",
     "output_type": "stream",
     "text": [
      "/Users/potti/Documents/HPI/thesis/spatialtranscriptomics/st_data_gen/.venv/lib/python3.9/site-packages/scanpy/preprocessing/_normalization.py:170: UserWarning: Received a view of an AnnData. Making a copy.\n",
      "  view_to_actual(adata)\n"
     ]
    },
    {
     "name": "stdout",
     "output_type": "stream",
     "text": [
      "training anew\n",
      "caching training data\n"
     ]
    },
    {
     "name": "stderr",
     "output_type": "stream",
     "text": [
      "100%|██████████████████████████████████████| 1000/1000 [00:04<00:00, 203.54it/s]\n"
     ]
    },
    {
     "name": "stdout",
     "output_type": "stream",
     "text": [
      "JSD: mean=0.2903916537761688, quartiles=[0.     0.2077 0.3    0.3807 0.6638]\n",
      "RMSE: all=0.10501428693532944, quartiles=[0.     0.0632 0.0894 0.1183 0.2933]\n",
      "RMSE: all=0.10501428693532944, quartiles=[0.     0.0632 0.0894 0.1183 0.2933]\n",
      "0.014218s\tinit\n",
      "3.210464s\tload\n",
      "0.691450s\thvg\n",
      "2.622668s\tnnls\n"
     ]
    },
    {
     "name": "stderr",
     "output_type": "stream",
     "text": [
      "/Users/potti/Documents/HPI/thesis/spatialtranscriptomics/st_data_gen/.venv/lib/python3.9/site-packages/scanpy/preprocessing/_normalization.py:170: UserWarning: Received a view of an AnnData. Making a copy.\n",
      "  view_to_actual(adata)\n"
     ]
    },
    {
     "name": "stdout",
     "output_type": "stream",
     "text": [
      "training anew\n",
      "caching training data\n"
     ]
    },
    {
     "name": "stderr",
     "output_type": "stream",
     "text": [
      "100%|██████████████████████████████████████| 1000/1000 [00:04<00:00, 203.61it/s]\n"
     ]
    },
    {
     "name": "stdout",
     "output_type": "stream",
     "text": [
      "JSD: mean=0.3370131254196167, quartiles=[0.     0.2077 0.3302 0.4409 0.8326]\n",
      "RMSE: all=0.12882688641548157, quartiles=[0.     0.0426 0.0853 0.1279 0.4264]\n",
      "RMSE: all=0.12882688641548157, quartiles=[0.     0.0426 0.0853 0.1279 0.4264]\n",
      "0.013208s\tinit\n",
      "3.329153s\tload\n",
      "0.730288s\thvg\n",
      "2.572712s\tnnls\n"
     ]
    },
    {
     "name": "stderr",
     "output_type": "stream",
     "text": [
      "/Users/potti/Documents/HPI/thesis/spatialtranscriptomics/st_data_gen/.venv/lib/python3.9/site-packages/scanpy/preprocessing/_normalization.py:170: UserWarning: Received a view of an AnnData. Making a copy.\n",
      "  view_to_actual(adata)\n"
     ]
    },
    {
     "name": "stdout",
     "output_type": "stream",
     "text": [
      "training anew\n",
      "caching training data\n"
     ]
    },
    {
     "name": "stderr",
     "output_type": "stream",
     "text": [
      "100%|██████████████████████████████████████| 1000/1000 [00:05<00:00, 198.14it/s]\n"
     ]
    },
    {
     "name": "stdout",
     "output_type": "stream",
     "text": [
      "JSD: mean=0.33165687322616577, quartiles=[0.     0.1935 0.3247 0.4433 0.8326]\n",
      "RMSE: all=0.12782801687717438, quartiles=[0.     0.0426 0.0739 0.1279 0.4264]\n",
      "RMSE: all=0.12782801687717438, quartiles=[0.     0.0426 0.0739 0.1279 0.4264]\n",
      "0.013796s\tinit\n",
      "3.265791s\tload\n",
      "0.669414s\thvg\n",
      "2.629870s\tnnls\n"
     ]
    },
    {
     "name": "stderr",
     "output_type": "stream",
     "text": [
      "/Users/potti/Documents/HPI/thesis/spatialtranscriptomics/st_data_gen/.venv/lib/python3.9/site-packages/scanpy/preprocessing/_normalization.py:170: UserWarning: Received a view of an AnnData. Making a copy.\n",
      "  view_to_actual(adata)\n"
     ]
    },
    {
     "name": "stdout",
     "output_type": "stream",
     "text": [
      "training anew\n",
      "caching training data\n"
     ]
    },
    {
     "name": "stderr",
     "output_type": "stream",
     "text": [
      "100%|██████████████████████████████████████| 1000/1000 [00:04<00:00, 214.64it/s]"
     ]
    },
    {
     "name": "stdout",
     "output_type": "stream",
     "text": [
      "JSD: mean=0.2939206659793854, quartiles=[0.     0.1906 0.2967 0.3901 0.7087]\n",
      "RMSE: all=0.11138222366571426, quartiles=[0.     0.0447 0.0894 0.1183 0.3376]\n",
      "RMSE: all=0.11138222366571426, quartiles=[0.     0.0447 0.0894 0.1183 0.3376]\n"
     ]
    },
    {
     "name": "stderr",
     "output_type": "stream",
     "text": [
      "\n"
     ]
    }
   ],
   "source": [
    "def correlate_results(reference, target):\n",
    "    scores = SPOTLightMatcher().match(reference, target)[3]\n",
    "    accuracy = cell_based_analysis(reference.anndata[:, GENES].copy(), target.anndata[:, GENES].copy())\n",
    "    return scores, accuracy\n",
    "\n",
    "results = {}\n",
    "\n",
    "for reference_key, reference_path in REFERENCE_DATASETS.items():\n",
    "    reference = SingleCellDataset.read(reference_path)\n",
    "    for target_key, target_path in TARGET_DATASETS.items():\n",
    "        target = SpatialTranscriptomicsDataset.read(target_path)\n",
    "        results[(reference_key, target_key)] = correlate_results(reference, target)"
   ],
   "metadata": {
    "collapsed": false
   }
  },
  {
   "cell_type": "code",
   "execution_count": 5,
   "outputs": [
    {
     "data": {
      "text/plain": "dict_keys([(('Harvard', 'full', 'F'), ('Harvard', 'full', 'F1')), (('Harvard', 'full', 'F'), ('Harvard', 'V1', 'F1')), (('Harvard', 'full', 'F'), ('Harvard', 'V2', 'F1')), (('Harvard', 'full', 'F'), ('Sanger', 'full', 'F1')), (('Harvard', 'full', 'F'), ('Sanger', 'V1', 'F1')), (('Harvard', 'full', 'F'), ('Sanger', 'V2', 'F1')), (('Harvard', 'full', 'F'), ('Harvard', 'full', 'F2')), (('Harvard', 'full', 'F'), ('Harvard', 'V1', 'F2')), (('Harvard', 'full', 'F'), ('Harvard', 'V2', 'F2')), (('Harvard', 'full', 'F'), ('Sanger', 'full', 'F2')), (('Harvard', 'full', 'F'), ('Sanger', 'V1', 'F2')), (('Harvard', 'full', 'F'), ('Sanger', 'V2', 'F2')), (('Harvard', 'V1', 'F'), ('Harvard', 'full', 'F1')), (('Harvard', 'V1', 'F'), ('Harvard', 'V1', 'F1')), (('Harvard', 'V1', 'F'), ('Harvard', 'V2', 'F1')), (('Harvard', 'V1', 'F'), ('Sanger', 'full', 'F1')), (('Harvard', 'V1', 'F'), ('Sanger', 'V1', 'F1')), (('Harvard', 'V1', 'F'), ('Sanger', 'V2', 'F1')), (('Harvard', 'V1', 'F'), ('Harvard', 'full', 'F2')), (('Harvard', 'V1', 'F'), ('Harvard', 'V1', 'F2')), (('Harvard', 'V1', 'F'), ('Harvard', 'V2', 'F2')), (('Harvard', 'V1', 'F'), ('Sanger', 'full', 'F2')), (('Harvard', 'V1', 'F'), ('Sanger', 'V1', 'F2')), (('Harvard', 'V1', 'F'), ('Sanger', 'V2', 'F2')), (('Harvard', 'V2', 'F'), ('Harvard', 'full', 'F1')), (('Harvard', 'V2', 'F'), ('Harvard', 'V1', 'F1')), (('Harvard', 'V2', 'F'), ('Harvard', 'V2', 'F1')), (('Harvard', 'V2', 'F'), ('Sanger', 'full', 'F1')), (('Harvard', 'V2', 'F'), ('Sanger', 'V1', 'F1')), (('Harvard', 'V2', 'F'), ('Sanger', 'V2', 'F1')), (('Harvard', 'V2', 'F'), ('Harvard', 'full', 'F2')), (('Harvard', 'V2', 'F'), ('Harvard', 'V1', 'F2')), (('Harvard', 'V2', 'F'), ('Harvard', 'V2', 'F2')), (('Harvard', 'V2', 'F'), ('Sanger', 'full', 'F2')), (('Harvard', 'V2', 'F'), ('Sanger', 'V1', 'F2')), (('Harvard', 'V2', 'F'), ('Sanger', 'V2', 'F2')), (('Sanger', 'full', 'F'), ('Harvard', 'full', 'F1')), (('Sanger', 'full', 'F'), ('Harvard', 'V1', 'F1')), (('Sanger', 'full', 'F'), ('Harvard', 'V2', 'F1')), (('Sanger', 'full', 'F'), ('Sanger', 'full', 'F1')), (('Sanger', 'full', 'F'), ('Sanger', 'V1', 'F1')), (('Sanger', 'full', 'F'), ('Sanger', 'V2', 'F1')), (('Sanger', 'full', 'F'), ('Harvard', 'full', 'F2')), (('Sanger', 'full', 'F'), ('Harvard', 'V1', 'F2')), (('Sanger', 'full', 'F'), ('Harvard', 'V2', 'F2')), (('Sanger', 'full', 'F'), ('Sanger', 'full', 'F2')), (('Sanger', 'full', 'F'), ('Sanger', 'V1', 'F2')), (('Sanger', 'full', 'F'), ('Sanger', 'V2', 'F2')), (('Sanger', 'V1', 'F'), ('Harvard', 'full', 'F1')), (('Sanger', 'V1', 'F'), ('Harvard', 'V1', 'F1')), (('Sanger', 'V1', 'F'), ('Harvard', 'V2', 'F1')), (('Sanger', 'V1', 'F'), ('Sanger', 'full', 'F1')), (('Sanger', 'V1', 'F'), ('Sanger', 'V1', 'F1')), (('Sanger', 'V1', 'F'), ('Sanger', 'V2', 'F1')), (('Sanger', 'V1', 'F'), ('Harvard', 'full', 'F2')), (('Sanger', 'V1', 'F'), ('Harvard', 'V1', 'F2')), (('Sanger', 'V1', 'F'), ('Harvard', 'V2', 'F2')), (('Sanger', 'V1', 'F'), ('Sanger', 'full', 'F2')), (('Sanger', 'V1', 'F'), ('Sanger', 'V1', 'F2')), (('Sanger', 'V1', 'F'), ('Sanger', 'V2', 'F2')), (('Sanger', 'V2', 'F'), ('Harvard', 'full', 'F1')), (('Sanger', 'V2', 'F'), ('Harvard', 'V1', 'F1')), (('Sanger', 'V2', 'F'), ('Harvard', 'V2', 'F1')), (('Sanger', 'V2', 'F'), ('Sanger', 'full', 'F1')), (('Sanger', 'V2', 'F'), ('Sanger', 'V1', 'F1')), (('Sanger', 'V2', 'F'), ('Sanger', 'V2', 'F1')), (('Sanger', 'V2', 'F'), ('Harvard', 'full', 'F2')), (('Sanger', 'V2', 'F'), ('Harvard', 'V1', 'F2')), (('Sanger', 'V2', 'F'), ('Harvard', 'V2', 'F2')), (('Sanger', 'V2', 'F'), ('Sanger', 'full', 'F2')), (('Sanger', 'V2', 'F'), ('Sanger', 'V1', 'F2')), (('Sanger', 'V2', 'F'), ('Sanger', 'V2', 'F2'))])"
     },
     "execution_count": 5,
     "metadata": {},
     "output_type": "execute_result"
    }
   ],
   "source": [
    "results.keys()"
   ],
   "metadata": {
    "collapsed": false
   }
  },
  {
   "cell_type": "code",
   "execution_count": 6,
   "outputs": [
    {
     "data": {
      "text/plain": "<Figure size 500x500 with 4 Axes>",
      "image/png": "[encoded data removed]"
     },
     "metadata": {},
     "output_type": "display_data"
    }
   ],
   "source": [
    "figure, grid = plot.subplots(2, 2, figsize=(5,5))\n",
    "figure.subplots_adjust( 0.1, 0.1, 0.95, 0.95)\n",
    "\n",
    "for ref, index in zip([\"Harvard Female Full\", \"Harvard Female V1\"], range(2)):\n",
    "    figure.text(0.99,(1 - (index * (1 / 2) + (1/4))), ref, rotation=-90, va=\"center\", ha=\"right\")\n",
    "\n",
    "for ref, index in zip([\"H6 Full\", \"H6 V1\"], range(2)):\n",
    "    figure.text((index * (1 / 2) + (1/4)), 0.99, ref, ha=\"center\", va=\"top\")\n",
    "\n",
    "for i in range(2):\n",
    "    grid[i][0].set_ylabel(\"RMSE\")\n",
    "\n",
    "for i in range(2):\n",
    "    grid[1][i].set_xlabel(\"score\")\n",
    "\n",
    "for ref, axes in zip(REFERENCE_DATASETS.keys(), grid):\n",
    "    for tgt, ax in zip(TARGET_DATASETS.keys(), axes):\n",
    "        score, accuracy = results[(ref, tgt)]\n",
    "\n",
    "        ax.set_xlim(0, 1)\n",
    "        ax.set_ylim(0, 1)\n",
    "        ax.scatter(score,accuracy)\n",
    "\n",
    "figure.savefig(\"../../output/spot_accuracy_correlation_excerpt.pdf\")"
   ],
   "metadata": {
    "collapsed": false
   }
  },
  {
   "cell_type": "code",
   "execution_count": 7,
   "outputs": [
    {
     "data": {
      "text/plain": "array([[ 1.    , -0.5218],\n       [-0.5218,  1.    ]])"
     },
     "execution_count": 7,
     "metadata": {},
     "output_type": "execute_result"
    },
    {
     "data": {
      "text/plain": "<Figure size 640x480 with 1 Axes>",
      "image/png": "[encoded data removed]"
     },
     "metadata": {},
     "output_type": "display_data"
    }
   ],
   "source": [
    "scores = []\n",
    "accuracies = []\n",
    "\n",
    "for key, (score, accuracy) in results.items():\n",
    "    scores.append(score.mean())\n",
    "    accuracies.append(accuracy.mean())\n",
    "\n",
    "plot.xlabel(\"score\")\n",
    "plot.ylabel(\"RMSE\")\n",
    "plot.scatter(scores, accuracies)\n",
    "np.corrcoef(scores, accuracies)"
   ],
   "metadata": {
    "collapsed": false
   }
  },
  {
   "cell_type": "code",
   "execution_count": 8,
   "outputs": [],
   "source": [
    "plot.rcParams.update({\n",
    "    \"text.usetex\": True,\n",
    "})"
   ],
   "metadata": {
    "collapsed": false
   }
  },
  {
   "cell_type": "code",
   "execution_count": 9,
   "outputs": [
    {
     "name": "stderr",
     "output_type": "stream",
     "text": [
      "/var/folders/2j/mgb23mj938j7lcpf33rzf5m40000gp/T/ipykernel_81259/2076590783.py:8: UserWarning: Matplotlib is currently using module://matplotlib_inline.backend_inline, which is a non-GUI backend, so cannot show the figure.\n",
      "  fig.show()\n"
     ]
    },
    {
     "data": {
      "text/plain": "<Figure size 1500x900 with 1 Axes>",
      "image/png": "[encoded data removed]"
     },
     "metadata": {},
     "output_type": "display_data"
    }
   ],
   "source": [
    "fig = plot.figure(figsize=(5, 3), dpi=300)\n",
    "fig.subplots_adjust(left=0.15, right=0.95, bottom=0.15)\n",
    "plt = fig.add_subplot()\n",
    "plt.scatter(scores, accuracies)\n",
    "plt.set_xlabel(\"score\")\n",
    "plt.set_ylabel(\"RMSE\")\n",
    "#plt.set_title(\"filter-genes = none (HCA dataset)\")\n",
    "fig.show()\n",
    "fig.savefig(\"../../output/accuracy_correlation.pdf\")"
   ],
   "metadata": {
    "collapsed": false
   }
  },
  {
   "cell_type": "code",
   "execution_count": 9,
   "outputs": [],
   "source": [],
   "metadata": {
    "collapsed": false
   }
  }
 ],
 "metadata": {
  "kernelspec": {
   "display_name": "Python 3",
   "language": "python",
   "name": "python3"
  },
  "language_info": {
   "codemirror_mode": {
    "name": "ipython",
    "version": 2
   },
   "file_extension": ".py",
   "mimetype": "text/x-python",
   "name": "python",
   "nbconvert_exporter": "python",
   "pygments_lexer": "ipython2",
   "version": "2.7.6"
  }
 },
 "nbformat": 4,
 "nbformat_minor": 0
}
